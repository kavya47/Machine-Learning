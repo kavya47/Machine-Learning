{
  "nbformat": 4,
  "nbformat_minor": 0,
  "metadata": {
    "colab": {
      "name": "kongara_Assignment3_5505.ipynb",
      "provenance": [],
      "collapsed_sections": []
    },
    "kernelspec": {
      "display_name": "Python 3",
      "name": "python3"
    },
    "language_info": {
      "name": "python"
    }
  },
  "cells": [
    {
      "cell_type": "code",
      "metadata": {
        "colab": {
          "base_uri": "https://localhost:8080/"
        },
        "id": "wutal6c_Jtdc",
        "outputId": "b26ddcaf-a069-4949-a931-85115e0bb7a4"
      },
      "source": [
        "from google.colab import drive \n",
        "drive.mount('gdrive')"
      ],
      "execution_count": 389,
      "outputs": [
        {
          "output_type": "stream",
          "name": "stdout",
          "text": [
            "Drive already mounted at gdrive; to attempt to forcibly remount, call drive.mount(\"gdrive\", force_remount=True).\n"
          ]
        }
      ]
    },
    {
      "cell_type": "code",
      "metadata": {
        "id": "Yy0js14PJ82j"
      },
      "source": [
        "import numpy as np\n",
        "import pandas as pd\n",
        "from statistics import mean\n",
        "import statsmodels.api as sm\n",
        "import matplotlib.pyplot as plt\n",
        "import seaborn as sns\n",
        "sns.set()\n",
        "from sklearn.cluster import KMeans\n",
        "from sklearn.preprocessing import StandardScaler\n",
        "from sklearn.metrics import silhouette_samples, silhouette_score"
      ],
      "execution_count": 390,
      "outputs": []
    },
    {
      "cell_type": "code",
      "metadata": {
        "id": "nh4LYXXtKHSU"
      },
      "source": [
        "data_train = pd.read_csv('/content/gdrive/MyDrive/Colab Notebooks/ALS_TrainingData_2223.csv')\n",
        "data_train"
      ],
      "execution_count": null,
      "outputs": []
    },
    {
      "cell_type": "code",
      "metadata": {
        "id": "WT5mbY1MKaUV"
      },
      "source": [
        "pd.set_option(\"display.max_rows\",data_train.shape[0]+1)\n",
        "pd.set_option(\"display.max_rows\",data_test.shape[0]+1)\n",
        "data_train.isnull().sum()\n",
        "data_test.isnull().sum()"
      ],
      "execution_count": null,
      "outputs": []
    },
    {
      "cell_type": "markdown",
      "metadata": {
        "id": "9I1X0lylhpwr"
      },
      "source": [
        "**2.Perform summary and preliminary visualization.**\n",
        "\n"
      ]
    },
    {
      "cell_type": "code",
      "metadata": {
        "colab": {
          "base_uri": "https://localhost:8080/",
          "height": 284
        },
        "id": "z0NHTeu1ko8K",
        "outputId": "cc53c525-cedf-455b-ad0e-07e41680d95e"
      },
      "source": [
        "ALSFRS_slope_max=max(data_train['ALSFRS_slope'])\n",
        "ALSFRS_slope_min =min(data_train['ALSFRS_slope'])\n",
        "ALSFRS_slope_mean=mean(data_train['ALSFRS_slope'])\n",
        "#creating scatter plot for leg median and ALSFRS_slope\n",
        "plt.scatter(data_train['Age_mean'],data_train['ALSFRS_slope'], marker='o', color='green', s=10)\n",
        "plt.xlabel('Age_mean', color='red',)\n",
        "plt.ylabel('ALSFRS_slope', color='blue',)\n",
        "plt.show()"
      ],
      "execution_count": 393,
      "outputs": [
        {
          "output_type": "display_data",
          "data": {
            "image/png": "[encoded data removed]",
            "text/plain": [
              "<Figure size 432x288 with 1 Axes>"
            ]
          },
          "metadata": {}
        }
      ]
    },
    {
      "cell_type": "code",
      "metadata": {
        "id": "n8fd3CtQLVZO"
      },
      "source": [
        "# Data standaraization \n",
        "\n",
        "scaled_data= StandardScaler().fit_transform(data_train)\n",
        "\n",
        "# Turning standard to dataframe \n",
        "scaled_data_dframe = pd.DataFrame(scaled_data)\n",
        "scaled_data_dframe.columns = [c for c in data_train.columns]\n",
        "\n",
        "scaled_data_dframe.head()"
      ],
      "execution_count": null,
      "outputs": []
    },
    {
      "cell_type": "code",
      "metadata": {
        "id": "BEvoUYuRMQ6C"
      },
      "source": [
        "scaled_data_dframe.describe()"
      ],
      "execution_count": null,
      "outputs": []
    },
    {
      "cell_type": "markdown",
      "metadata": {
        "id": "7inE7Fwlkpzl"
      },
      "source": [
        "**3.Train a k-Means model on the data, experiment at least two different k values, and explain which k value is a better choice.**"
      ]
    },
    {
      "cell_type": "code",
      "metadata": {
        "colab": {
          "base_uri": "https://localhost:8080/"
        },
        "id": "LtXwQt80Hbwk",
        "outputId": "321274d4-8b62-44cc-ce9a-07bb9515e0b5"
      },
      "source": [
        "#Applying k means clustering \n",
        "from sklearn.cluster import KMeans\n",
        "kmeans = KMeans(n_clusters=2, init='k-means++', max_iter=100, n_init=10, random_state=0)\n",
        "kmeans.fit(scaled_data_dframe)"
      ],
      "execution_count": 396,
      "outputs": [
        {
          "output_type": "execute_result",
          "data": {
            "text/plain": [
              "KMeans(algorithm='auto', copy_x=True, init='k-means++', max_iter=100,\n",
              "       n_clusters=2, n_init=10, n_jobs=None, precompute_distances='auto',\n",
              "       random_state=0, tol=0.0001, verbose=0)"
            ]
          },
          "metadata": {},
          "execution_count": 396
        }
      ]
    },
    {
      "cell_type": "code",
      "metadata": {
        "colab": {
          "base_uri": "https://localhost:8080/"
        },
        "id": "POpDbY4_M1jJ",
        "outputId": "5246482c-dc49-4053-8641-20084af02e01"
      },
      "source": [
        "print('SSE            : ', kmeans.inertia_)"
      ],
      "execution_count": 397,
      "outputs": [
        {
          "output_type": "stream",
          "name": "stdout",
          "text": [
            "SSE            :  207788.65254707955\n"
          ]
        }
      ]
    },
    {
      "cell_type": "code",
      "metadata": {
        "id": "4DnfRQlhN1N-"
      },
      "source": [
        "# Determining the correleation between other features with ALSFRS_slope\n",
        "correlation = pd.DataFrame(data_train.corrwith(data_train['ALSFRS_slope']), columns = ['correlation_score'])"
      ],
      "execution_count": 398,
      "outputs": []
    },
    {
      "cell_type": "code",
      "metadata": {
        "colab": {
          "base_uri": "https://localhost:8080/"
        },
        "id": "gpvlxAF3PG_e",
        "outputId": "d0477287-4459-4015-d74d-a4ea5b7a3df9"
      },
      "source": [
        "print('features negatively correlated with ALSFRS_slope: ',correlation[correlation['correlation_score'] <= -0.3])"
      ],
      "execution_count": 399,
      "outputs": [
        {
          "output_type": "stream",
          "name": "stdout",
          "text": [
            "features negatively correlated with ALSFRS_slope:                      correlation_score\n",
            "ALSFRS_Total_range          -0.819305\n",
            "hands_range                 -0.632350\n",
            "leg_range                   -0.584507\n",
            "mouth_range                 -0.553194\n",
            "onset_delta_mean            -0.324307\n",
            "respiratory_range           -0.432878\n",
            "trunk_range                 -0.686407\n"
          ]
        }
      ]
    },
    {
      "cell_type": "code",
      "metadata": {
        "colab": {
          "base_uri": "https://localhost:8080/"
        },
        "id": "OzMFZHnkPXNK",
        "outputId": "f82edb72-e8c0-4bc7-91db-e20f5eab9420"
      },
      "source": [
        "print('features positively correlated with ALSFRS_slope: ',(correlation[correlation['correlation_score'] >= 0.3]))"
      ],
      "execution_count": 400,
      "outputs": [
        {
          "output_type": "stream",
          "name": "stdout",
          "text": [
            "features positively correlated with ALSFRS_slope:                    correlation_score\n",
            "ALSFRS_slope               1.000000\n",
            "ALSFRS_Total_min           0.601810\n",
            "hands_min                  0.424107\n",
            "leg_min                    0.348967\n",
            "mouth_min                  0.435538\n",
            "respiratory_min            0.380749\n",
            "trunk_min                  0.488530\n"
          ]
        }
      ]
    },
    {
      "cell_type": "code",
      "metadata": {
        "colab": {
          "base_uri": "https://localhost:8080/",
          "height": 300
        },
        "id": "nG4LRyPcty4a",
        "outputId": "a267d274-788b-4ab1-bcb8-00c65b110f3a"
      },
      "source": [
        "# by using elbow method i m trying to find how clusters we need\n",
        "wcss = []\n",
        "for i in range(1, 10):\n",
        "    kmeans = KMeans(n_clusters=i, init='k-means++', max_iter=300, n_init=10, random_state=0)\n",
        "    kmeans.fit(scaled_data_dframe)\n",
        "    wcss.append(kmeans.inertia_)\n",
        "plt.plot(range(1, 10), wcss,marker='*')\n",
        "plt.title('Elbow Method')\n",
        "plt.xlabel('Number of clusters')\n",
        "plt.ylabel('WCSS')\n",
        "plt.show()"
      ],
      "execution_count": 446,
      "outputs": [
        {
          "output_type": "display_data",
          "data": {
            "image/png": "[encoded data removed]",
            "text/plain": [
              "<Figure size 432x288 with 1 Axes>"
            ]
          },
          "metadata": {}
        }
      ]
    },
    {
      "cell_type": "code",
      "metadata": {
        "colab": {
          "base_uri": "https://localhost:8080/"
        },
        "id": "TRjLhpRIoJrJ",
        "outputId": "f647c4ba-1cfa-43f8-db06-2b8c88423c8c"
      },
      "source": [
        "\n",
        "from kneed import KneeLocator\n",
        "kl = KneeLocator(range(1, 10), wcss, curve=\"convex\", direction=\"decreasing\")\n",
        "\n",
        "kl.elbow"
      ],
      "execution_count": 447,
      "outputs": [
        {
          "output_type": "execute_result",
          "data": {
            "text/plain": [
              "3"
            ]
          },
          "metadata": {},
          "execution_count": 447
        }
      ]
    },
    {
      "cell_type": "code",
      "metadata": {
        "colab": {
          "base_uri": "https://localhost:8080/"
        },
        "id": "WRxtCXVkH-GL",
        "outputId": "6dd84adc-98fd-48e8-f23d-fcf3d0396c93"
      },
      "source": [
        "#silhouette_score (sklearn.metrics) for the data set is used for measuring the mean of the Silhouette Coefficient for each sample belonging to different clusters.\n",
        "from sklearn.metrics import silhouette_score\n",
        "score = silhouette_score(scaled_data_dframe, kmeans.labels_, metric='euclidean')\n",
        "score"
      ],
      "execution_count": 448,
      "outputs": [
        {
          "output_type": "execute_result",
          "data": {
            "text/plain": [
              "0.042930858395988855"
            ]
          },
          "metadata": {},
          "execution_count": 448
        }
      ]
    },
    {
      "cell_type": "code",
      "metadata": {
        "id": "7MNHB-oLWRtA"
      },
      "source": [
        "# silhouette coefficients \n",
        "silhouette_coeffs=[]\n",
        "for k in range (2,11):\n",
        "  kmeans_k = KMeans (n_clusters = k)\n",
        "  kmeans_k.fit(scaled_data_dframe)\n",
        "  silhouette_coeffs_score = silhouette_score(scaled_data_dframe,kmeans_k.labels_ )\n",
        "  silhouette_coeffs.append (silhouette_coeffs_score)\n",
        " "
      ],
      "execution_count": 449,
      "outputs": []
    },
    {
      "cell_type": "code",
      "metadata": {
        "colab": {
          "base_uri": "https://localhost:8080/"
        },
        "id": "5J_ZMKko3cHC",
        "outputId": "d3b5958c-94cf-40c8-92dc-c0c9fc62d5b3"
      },
      "source": [
        "silhouette_coeffs_score"
      ],
      "execution_count": 450,
      "outputs": [
        {
          "output_type": "execute_result",
          "data": {
            "text/plain": [
              "0.04517503556714029"
            ]
          },
          "metadata": {},
          "execution_count": 450
        }
      ]
    },
    {
      "cell_type": "code",
      "metadata": {
        "colab": {
          "base_uri": "https://localhost:8080/",
          "height": 284
        },
        "id": "wJYWWN2cXS4E",
        "outputId": "4c54f76d-b171-4a0c-c410-e280ace3e0a0"
      },
      "source": [
        " #Visualize the silhoutte efficient for each k\n",
        "x=[i for i in range (2,11)]\n",
        "y=silhouette_coeffs\n",
        "plt.plot(x, y, marker='o')\n",
        "plt.xticks(x)\n",
        "plt.xlabel('k')\n",
        "plt.ylabel('silhouette coefficient ')\n",
        "plt.show()"
      ],
      "execution_count": 442,
      "outputs": [
        {
          "output_type": "display_data",
          "data": {
            "image/png": "[encoded data removed]",
            "text/plain": [
              "<Figure size 432x288 with 1 Axes>"
            ]
          },
          "metadata": {}
        }
      ]
    },
    {
      "cell_type": "code",
      "metadata": {
        "colab": {
          "base_uri": "https://localhost:8080/",
          "height": 86
        },
        "id": "Lv9K9EhRfGfp",
        "outputId": "0cf5d38c-6ff8-41e0-dce6-56e1065be457"
      },
      "source": [
        "# choosing different K values , K=2\n",
        "\n",
        "'''X_std = StandardScaler().fit_transform(data_train)\n",
        "\n",
        "# Run local implementation of kmeans\n",
        "km = KMeans(n_clusters=2, max_iter=300)\n",
        "km.fit(X_std)\n",
        "centroids = km.cluster_centers_\n",
        "\n",
        "# Plot the clustered data\n",
        "fig, ax = plt.subplots(figsize=(10, 10))\n",
        "plt.scatter(X_std[km.labels_ == 0, 1], X_std[km.labels_ == 0, 6],c='green', label='cluster 1',s=75)\n",
        "plt.scatter(X_std[km.labels_ == 1, 1], X_std[km.labels_ == 1, 6],c='blue', label='cluster 2',s=90)\n",
        "\n",
        "plt.scatter(centroids[:, 1], centroids[:, 6], marker='*',c='r', s=100,label='centroid')\n",
        "plt.legend()\n",
        "plt.xlim([-4, 4])\n",
        "plt.ylim([-4, 4])\n",
        "plt.xlabel('Eruption time in mins')\n",
        "plt.ylabel('Waiting time to next eruption')\n",
        "plt.title('Visualization of clustered data', fontweight='bold')\n",
        "ax.set_aspect('equal');'''"
      ],
      "execution_count": 406,
      "outputs": [
        {
          "output_type": "execute_result",
          "data": {
            "application/vnd.google.colaboratory.intrinsic+json": {
              "type": "string"
            },
            "text/plain": [
              "\"X_std = StandardScaler().fit_transform(data_train)\\n\\n# Run local implementation of kmeans\\nkm = KMeans(n_clusters=2, max_iter=300)\\nkm.fit(X_std)\\ncentroids = km.cluster_centers_\\n\\n# Plot the clustered data\\nfig, ax = plt.subplots(figsize=(10, 10))\\nplt.scatter(X_std[km.labels_ == 0, 1], X_std[km.labels_ == 0, 6],c='green', label='cluster 1',s=75)\\nplt.scatter(X_std[km.labels_ == 1, 1], X_std[km.labels_ == 1, 6],c='blue', label='cluster 2',s=90)\\n\\nplt.scatter(centroids[:, 1], centroids[:, 6], marker='*',c='r', s=100,label='centroid')\\nplt.legend()\\nplt.xlim([-4, 4])\\nplt.ylim([-4, 4])\\nplt.xlabel('Eruption time in mins')\\nplt.ylabel('Waiting time to next eruption')\\nplt.title('Visualization of clustered data', fontweight='bold')\\nax.set_aspect('equal');\""
            ]
          },
          "metadata": {},
          "execution_count": 406
        }
      ]
    },
    {
      "cell_type": "code",
      "metadata": {
        "colab": {
          "base_uri": "https://localhost:8080/",
          "height": 86
        },
        "id": "iUUDfM4EXS2V",
        "outputId": "21a0321f-b38b-4c71-fc5c-c81c3113c4ed"
      },
      "source": [
        "# choosing different K values , K=3\n",
        "\n",
        "'''X_std = StandardScaler().fit_transform(data_train)\n",
        "\n",
        "# Run local implementation of kmeans\n",
        "km = KMeans(n_clusters=3, max_iter=300)\n",
        "km.fit(X_std)\n",
        "centroids = km.cluster_centers_\n",
        "\n",
        "# Plot the clustered data\n",
        "fig, ax = plt.subplots(figsize=(10, 10))\n",
        "plt.scatter(X_std[km.labels_ == 0, 1], X_std[km.labels_ == 0, 6],c='green', label='cluster 1',s=75)\n",
        "plt.scatter(X_std[km.labels_ == 1, 1], X_std[km.labels_ == 1, 6],c='blue', label='cluster 2',s=150)\n",
        "plt.scatter(X_std[km.labels_ == 2, 1], X_std[km.labels_ == 2, 6],c='red', label='cluster 1',s=20)\n",
        "\n",
        "plt.scatter(centroids[:, 1], centroids[:, 6], marker='*',c='yellow', s=200,label='centroid')\n",
        "plt.legend()\n",
        "plt.xlim([-4, 4])\n",
        "plt.ylim([-4, 4])\n",
        "plt.xlabel('Eruption time in mins')\n",
        "plt.ylabel('Waiting time to next eruption')\n",
        "plt.title('Visualization of clustered data', fontweight='bold')\n",
        "ax.set_aspect('equal');'''"
      ],
      "execution_count": 407,
      "outputs": [
        {
          "output_type": "execute_result",
          "data": {
            "application/vnd.google.colaboratory.intrinsic+json": {
              "type": "string"
            },
            "text/plain": [
              "\"X_std = StandardScaler().fit_transform(data_train)\\n\\n# Run local implementation of kmeans\\nkm = KMeans(n_clusters=3, max_iter=300)\\nkm.fit(X_std)\\ncentroids = km.cluster_centers_\\n\\n# Plot the clustered data\\nfig, ax = plt.subplots(figsize=(10, 10))\\nplt.scatter(X_std[km.labels_ == 0, 1], X_std[km.labels_ == 0, 6],c='green', label='cluster 1',s=75)\\nplt.scatter(X_std[km.labels_ == 1, 1], X_std[km.labels_ == 1, 6],c='blue', label='cluster 2',s=150)\\nplt.scatter(X_std[km.labels_ == 2, 1], X_std[km.labels_ == 2, 6],c='red', label='cluster 1',s=20)\\n\\nplt.scatter(centroids[:, 1], centroids[:, 6], marker='*',c='yellow', s=200,label='centroid')\\nplt.legend()\\nplt.xlim([-4, 4])\\nplt.ylim([-4, 4])\\nplt.xlabel('Eruption time in mins')\\nplt.ylabel('Waiting time to next eruption')\\nplt.title('Visualization of clustered data', fontweight='bold')\\nax.set_aspect('equal');\""
            ]
          },
          "metadata": {},
          "execution_count": 407
        }
      ]
    },
    {
      "cell_type": "code",
      "metadata": {
        "colab": {
          "base_uri": "https://localhost:8080/"
        },
        "id": "ugezaDGtX27F",
        "outputId": "9f8d39e1-6feb-47d3-dbf4-ad5dbd2cde93"
      },
      "source": [
        "kmeans_k3_cluster = KMeans (n_clusters = 3, init='k-means++', max_iter=100, n_init=10, random_state=0)\n",
        "kmeans_k3_cluster.fit(scaled_data_dframe)\n",
        "\n",
        "# print the SSE of the model\n",
        "print ('SSE of the final model: {:.2f}'.format(kmeans_k3_cluster.inertia_))\n",
        "\n",
        "# apply the model to cluster the dataset\n",
        "pred = kmeans_k3_cluster.predict(scaled_data_dframe)\n",
        "\n",
        "pred"
      ],
      "execution_count": 408,
      "outputs": [
        {
          "output_type": "stream",
          "name": "stdout",
          "text": [
            "SSE of the final model: 200401.18\n"
          ]
        },
        {
          "output_type": "execute_result",
          "data": {
            "text/plain": [
              "array([0, 0, 2, ..., 2, 0, 1], dtype=int32)"
            ]
          },
          "metadata": {},
          "execution_count": 408
        }
      ]
    },
    {
      "cell_type": "code",
      "metadata": {
        "colab": {
          "base_uri": "https://localhost:8080/"
        },
        "id": "KsIOR6z7YPLC",
        "outputId": "888930d5-fab9-4d4b-c199-f766dba36abb"
      },
      "source": [
        "#To know the number of items in the each cluster\n",
        "scaled_data_dframe['Clusters'] = pred\n",
        "scaled_data_dframe['Clusters'].value_counts()"
      ],
      "execution_count": 444,
      "outputs": [
        {
          "output_type": "execute_result",
          "data": {
            "text/plain": [
              "0    982\n",
              "2    740\n",
              "1    501\n",
              "Name: Clusters, dtype: int64"
            ]
          },
          "metadata": {},
          "execution_count": 444
        }
      ]
    },
    {
      "cell_type": "code",
      "metadata": {
        "colab": {
          "base_uri": "https://localhost:8080/",
          "height": 284
        },
        "id": "6N7v7RuvZs1u",
        "outputId": "c7fa5849-6c3f-44f6-b36f-e3ad450ea145"
      },
      "source": [
        "#Visualizing the cluster items\n",
        "sns.countplot(x='Clusters', data=scaled_data_dframe)\n",
        "plt.show()"
      ],
      "execution_count": 410,
      "outputs": [
        {
          "output_type": "display_data",
          "data": {
            "image/png": "[encoded data removed]",
            "text/plain": [
              "<Figure size 432x288 with 1 Axes>"
            ]
          },
          "metadata": {}
        }
      ]
    },
    {
      "cell_type": "code",
      "metadata": {
        "id": "J5c3GckcaQ09"
      },
      "source": [
        "# Print centroids of clusters\n",
        "centroids  = kmeans_k3_cluster.cluster_centers_\n",
        "centroids"
      ],
      "execution_count": null,
      "outputs": []
    },
    {
      "cell_type": "code",
      "metadata": {
        "colab": {
          "base_uri": "https://localhost:8080/"
        },
        "id": "XDVSWMhbqp-g",
        "outputId": "da704abd-cba6-43c7-863f-ab9223f88f37"
      },
      "source": [
        "scaled_data_dframe.shape"
      ],
      "execution_count": 416,
      "outputs": [
        {
          "output_type": "execute_result",
          "data": {
            "text/plain": [
              "(2223, 102)"
            ]
          },
          "metadata": {},
          "execution_count": 416
        }
      ]
    },
    {
      "cell_type": "code",
      "metadata": {
        "colab": {
          "base_uri": "https://localhost:8080/",
          "height": 191
        },
        "id": "WiJJtNOOb2NN",
        "outputId": "9995c4e9-3c59-4eb2-dd5a-1d6b9fdb2198"
      },
      "source": [
        "#converting centriod values into a dataframe\n",
        "scaled_data_dframe.drop('Clusters', axis=1, inplace=True)\n",
        "centroids_dfarme = pd.DataFrame(centroids, columns = scaled_data_dframe.columns )\n",
        "centroids_dfarme"
      ],
      "execution_count": 423,
      "outputs": [
        {
          "output_type": "execute_result",
          "data": {
            "text/html": [
              "<div>\n",
              "<style scoped>\n",
              "    .dataframe tbody tr th:only-of-type {\n",
              "        vertical-align: middle;\n",
              "    }\n",
              "\n",
              "    .dataframe tbody tr th {\n",
              "        vertical-align: top;\n",
              "    }\n",
              "\n",
              "    .dataframe thead th {\n",
              "        text-align: right;\n",
              "    }\n",
              "</style>\n",
              "<table border=\"1\" class=\"dataframe\">\n",
              "  <thead>\n",
              "    <tr style=\"text-align: right;\">\n",
              "      <th></th>\n",
              "      <th>ID</th>\n",
              "      <th>Age_mean</th>\n",
              "      <th>Albumin_max</th>\n",
              "      <th>Albumin_median</th>\n",
              "      <th>Albumin_min</th>\n",
              "      <th>Albumin_range</th>\n",
              "      <th>ALSFRS_slope</th>\n",
              "      <th>ALSFRS_Total_max</th>\n",
              "      <th>ALSFRS_Total_median</th>\n",
              "      <th>ALSFRS_Total_min</th>\n",
              "      <th>ALSFRS_Total_range</th>\n",
              "      <th>ALT.SGPT._max</th>\n",
              "      <th>ALT.SGPT._median</th>\n",
              "      <th>ALT.SGPT._min</th>\n",
              "      <th>ALT.SGPT._range</th>\n",
              "      <th>AST.SGOT._max</th>\n",
              "      <th>AST.SGOT._median</th>\n",
              "      <th>AST.SGOT._min</th>\n",
              "      <th>AST.SGOT._range</th>\n",
              "      <th>Bicarbonate_max</th>\n",
              "      <th>Bicarbonate_median</th>\n",
              "      <th>Bicarbonate_min</th>\n",
              "      <th>Bicarbonate_range</th>\n",
              "      <th>Blood.Urea.Nitrogen..BUN._max</th>\n",
              "      <th>Blood.Urea.Nitrogen..BUN._median</th>\n",
              "      <th>Blood.Urea.Nitrogen..BUN._min</th>\n",
              "      <th>Blood.Urea.Nitrogen..BUN._range</th>\n",
              "      <th>bp_diastolic_max</th>\n",
              "      <th>bp_diastolic_median</th>\n",
              "      <th>bp_diastolic_min</th>\n",
              "      <th>bp_diastolic_range</th>\n",
              "      <th>bp_systolic_max</th>\n",
              "      <th>bp_systolic_median</th>\n",
              "      <th>bp_systolic_min</th>\n",
              "      <th>bp_systolic_range</th>\n",
              "      <th>Calcium_max</th>\n",
              "      <th>Calcium_median</th>\n",
              "      <th>Calcium_min</th>\n",
              "      <th>Calcium_range</th>\n",
              "      <th>Chloride_max</th>\n",
              "      <th>...</th>\n",
              "      <th>Hemoglobin_median</th>\n",
              "      <th>Hemoglobin_min</th>\n",
              "      <th>Hemoglobin_range</th>\n",
              "      <th>leg_max</th>\n",
              "      <th>leg_median</th>\n",
              "      <th>leg_min</th>\n",
              "      <th>leg_range</th>\n",
              "      <th>mouth_max</th>\n",
              "      <th>mouth_median</th>\n",
              "      <th>mouth_min</th>\n",
              "      <th>mouth_range</th>\n",
              "      <th>onset_delta_mean</th>\n",
              "      <th>onset_site_mean</th>\n",
              "      <th>Platelets_max</th>\n",
              "      <th>Platelets_median</th>\n",
              "      <th>Platelets_min</th>\n",
              "      <th>Potassium_max</th>\n",
              "      <th>Potassium_median</th>\n",
              "      <th>Potassium_min</th>\n",
              "      <th>Potassium_range</th>\n",
              "      <th>pulse_max</th>\n",
              "      <th>pulse_median</th>\n",
              "      <th>pulse_min</th>\n",
              "      <th>pulse_range</th>\n",
              "      <th>respiratory_max</th>\n",
              "      <th>respiratory_median</th>\n",
              "      <th>respiratory_min</th>\n",
              "      <th>respiratory_range</th>\n",
              "      <th>Sodium_max</th>\n",
              "      <th>Sodium_median</th>\n",
              "      <th>Sodium_min</th>\n",
              "      <th>Sodium_range</th>\n",
              "      <th>SubjectID</th>\n",
              "      <th>trunk_max</th>\n",
              "      <th>trunk_median</th>\n",
              "      <th>trunk_min</th>\n",
              "      <th>trunk_range</th>\n",
              "      <th>Urine.Ph_max</th>\n",
              "      <th>Urine.Ph_median</th>\n",
              "      <th>Urine.Ph_min</th>\n",
              "    </tr>\n",
              "  </thead>\n",
              "  <tbody>\n",
              "    <tr>\n",
              "      <th>0</th>\n",
              "      <td>0.047384</td>\n",
              "      <td>0.008468</td>\n",
              "      <td>0.103323</td>\n",
              "      <td>0.158494</td>\n",
              "      <td>0.213068</td>\n",
              "      <td>-0.208997</td>\n",
              "      <td>0.528434</td>\n",
              "      <td>0.661854</td>\n",
              "      <td>0.781536</td>\n",
              "      <td>0.872137</td>\n",
              "      <td>-0.624385</td>\n",
              "      <td>-0.001622</td>\n",
              "      <td>0.097902</td>\n",
              "      <td>0.160183</td>\n",
              "      <td>-0.108534</td>\n",
              "      <td>0.058320</td>\n",
              "      <td>0.166944</td>\n",
              "      <td>0.210370</td>\n",
              "      <td>-0.063118</td>\n",
              "      <td>0.022161</td>\n",
              "      <td>0.077536</td>\n",
              "      <td>0.062644</td>\n",
              "      <td>-0.175803</td>\n",
              "      <td>0.058935</td>\n",
              "      <td>0.133093</td>\n",
              "      <td>0.165189</td>\n",
              "      <td>-0.176408</td>\n",
              "      <td>-0.029893</td>\n",
              "      <td>0.032499</td>\n",
              "      <td>0.049982</td>\n",
              "      <td>-0.161982</td>\n",
              "      <td>0.007631</td>\n",
              "      <td>0.056138</td>\n",
              "      <td>0.107281</td>\n",
              "      <td>-0.189738</td>\n",
              "      <td>-0.056075</td>\n",
              "      <td>-0.107880</td>\n",
              "      <td>-0.044235</td>\n",
              "      <td>-0.090601</td>\n",
              "      <td>0.085066</td>\n",
              "      <td>...</td>\n",
              "      <td>0.118306</td>\n",
              "      <td>0.173026</td>\n",
              "      <td>-0.232807</td>\n",
              "      <td>0.358769</td>\n",
              "      <td>0.472792</td>\n",
              "      <td>0.612892</td>\n",
              "      <td>-0.334074</td>\n",
              "      <td>0.302876</td>\n",
              "      <td>0.385960</td>\n",
              "      <td>0.512750</td>\n",
              "      <td>-0.534087</td>\n",
              "      <td>-0.003058</td>\n",
              "      <td>0.096414</td>\n",
              "      <td>-0.183774</td>\n",
              "      <td>-0.139614</td>\n",
              "      <td>-0.083063</td>\n",
              "      <td>0.021705</td>\n",
              "      <td>0.080151</td>\n",
              "      <td>0.085180</td>\n",
              "      <td>-0.078323</td>\n",
              "      <td>-0.268178</td>\n",
              "      <td>-0.228478</td>\n",
              "      <td>-0.170571</td>\n",
              "      <td>-0.239328</td>\n",
              "      <td>0.168383</td>\n",
              "      <td>0.336812</td>\n",
              "      <td>0.459343</td>\n",
              "      <td>-0.440670</td>\n",
              "      <td>0.038958</td>\n",
              "      <td>0.046299</td>\n",
              "      <td>0.085803</td>\n",
              "      <td>-0.201050</td>\n",
              "      <td>0.047033</td>\n",
              "      <td>0.567595</td>\n",
              "      <td>0.676893</td>\n",
              "      <td>0.794466</td>\n",
              "      <td>-0.510567</td>\n",
              "      <td>-0.102793</td>\n",
              "      <td>-0.055972</td>\n",
              "      <td>-0.024281</td>\n",
              "    </tr>\n",
              "    <tr>\n",
              "      <th>1</th>\n",
              "      <td>-0.031509</td>\n",
              "      <td>0.305580</td>\n",
              "      <td>-0.145493</td>\n",
              "      <td>-0.227014</td>\n",
              "      <td>-0.291801</td>\n",
              "      <td>0.422555</td>\n",
              "      <td>-1.084147</td>\n",
              "      <td>0.092851</td>\n",
              "      <td>-0.225890</td>\n",
              "      <td>-0.761617</td>\n",
              "      <td>1.223226</td>\n",
              "      <td>0.054930</td>\n",
              "      <td>-0.090101</td>\n",
              "      <td>-0.100152</td>\n",
              "      <td>0.257072</td>\n",
              "      <td>-0.008373</td>\n",
              "      <td>-0.045061</td>\n",
              "      <td>-0.040812</td>\n",
              "      <td>0.192248</td>\n",
              "      <td>0.338320</td>\n",
              "      <td>0.348662</td>\n",
              "      <td>0.321181</td>\n",
              "      <td>0.518957</td>\n",
              "      <td>0.075445</td>\n",
              "      <td>0.101018</td>\n",
              "      <td>0.076538</td>\n",
              "      <td>0.416799</td>\n",
              "      <td>-0.092851</td>\n",
              "      <td>-0.102445</td>\n",
              "      <td>-0.088722</td>\n",
              "      <td>0.332250</td>\n",
              "      <td>0.037405</td>\n",
              "      <td>-0.026951</td>\n",
              "      <td>-0.089208</td>\n",
              "      <td>0.471110</td>\n",
              "      <td>-0.054385</td>\n",
              "      <td>-0.043098</td>\n",
              "      <td>0.027077</td>\n",
              "      <td>0.143244</td>\n",
              "      <td>-0.315030</td>\n",
              "      <td>...</td>\n",
              "      <td>-0.231997</td>\n",
              "      <td>-0.266362</td>\n",
              "      <td>0.435827</td>\n",
              "      <td>0.316387</td>\n",
              "      <td>0.085868</td>\n",
              "      <td>-0.311259</td>\n",
              "      <td>0.930442</td>\n",
              "      <td>-0.666341</td>\n",
              "      <td>-0.745555</td>\n",
              "      <td>-0.927156</td>\n",
              "      <td>0.942299</td>\n",
              "      <td>0.482789</td>\n",
              "      <td>-0.581609</td>\n",
              "      <td>0.313764</td>\n",
              "      <td>0.172323</td>\n",
              "      <td>0.130690</td>\n",
              "      <td>0.059556</td>\n",
              "      <td>0.111342</td>\n",
              "      <td>0.058599</td>\n",
              "      <td>0.250501</td>\n",
              "      <td>0.396450</td>\n",
              "      <td>0.318219</td>\n",
              "      <td>0.252202</td>\n",
              "      <td>0.554655</td>\n",
              "      <td>-0.267021</td>\n",
              "      <td>-0.440693</td>\n",
              "      <td>-0.691246</td>\n",
              "      <td>0.724487</td>\n",
              "      <td>-0.111127</td>\n",
              "      <td>-0.114131</td>\n",
              "      <td>-0.156603</td>\n",
              "      <td>0.499770</td>\n",
              "      <td>-0.032080</td>\n",
              "      <td>0.327751</td>\n",
              "      <td>0.111553</td>\n",
              "      <td>-0.380915</td>\n",
              "      <td>0.992818</td>\n",
              "      <td>0.115260</td>\n",
              "      <td>0.127669</td>\n",
              "      <td>-0.015040</td>\n",
              "    </tr>\n",
              "    <tr>\n",
              "      <th>2</th>\n",
              "      <td>-0.041547</td>\n",
              "      <td>-0.218123</td>\n",
              "      <td>-0.038610</td>\n",
              "      <td>-0.056632</td>\n",
              "      <td>-0.085189</td>\n",
              "      <td>-0.008737</td>\n",
              "      <td>0.032752</td>\n",
              "      <td>-0.941160</td>\n",
              "      <td>-0.884185</td>\n",
              "      <td>-0.641714</td>\n",
              "      <td>0.000418</td>\n",
              "      <td>-0.035036</td>\n",
              "      <td>-0.068918</td>\n",
              "      <td>-0.144761</td>\n",
              "      <td>-0.030017</td>\n",
              "      <td>-0.071723</td>\n",
              "      <td>-0.191032</td>\n",
              "      <td>-0.251535</td>\n",
              "      <td>-0.046397</td>\n",
              "      <td>-0.258460</td>\n",
              "      <td>-0.338947</td>\n",
              "      <td>-0.300579</td>\n",
              "      <td>-0.118053</td>\n",
              "      <td>-0.129287</td>\n",
              "      <td>-0.245011</td>\n",
              "      <td>-0.271029</td>\n",
              "      <td>-0.048085</td>\n",
              "      <td>0.102531</td>\n",
              "      <td>0.026231</td>\n",
              "      <td>-0.006261</td>\n",
              "      <td>-0.009988</td>\n",
              "      <td>-0.035451</td>\n",
              "      <td>-0.056250</td>\n",
              "      <td>-0.081969</td>\n",
              "      <td>-0.067166</td>\n",
              "      <td>0.111233</td>\n",
              "      <td>0.172338</td>\n",
              "      <td>0.040369</td>\n",
              "      <td>0.023250</td>\n",
              "      <td>0.100400</td>\n",
              "      <td>...</td>\n",
              "      <td>0.000073</td>\n",
              "      <td>-0.049275</td>\n",
              "      <td>0.013875</td>\n",
              "      <td>-0.690299</td>\n",
              "      <td>-0.685543</td>\n",
              "      <td>-0.602593</td>\n",
              "      <td>-0.186610</td>\n",
              "      <td>0.049206</td>\n",
              "      <td>-0.007419</td>\n",
              "      <td>-0.052724</td>\n",
              "      <td>0.070786</td>\n",
              "      <td>-0.322803</td>\n",
              "      <td>0.265820</td>\n",
              "      <td>0.031446</td>\n",
              "      <td>0.068605</td>\n",
              "      <td>0.021746</td>\n",
              "      <td>-0.069124</td>\n",
              "      <td>-0.181745</td>\n",
              "      <td>-0.152710</td>\n",
              "      <td>-0.065660</td>\n",
              "      <td>0.087471</td>\n",
              "      <td>0.087754</td>\n",
              "      <td>0.055605</td>\n",
              "      <td>-0.057922</td>\n",
              "      <td>-0.042668</td>\n",
              "      <td>-0.148597</td>\n",
              "      <td>-0.141568</td>\n",
              "      <td>0.094285</td>\n",
              "      <td>0.023537</td>\n",
              "      <td>0.015830</td>\n",
              "      <td>-0.007838</td>\n",
              "      <td>-0.071558</td>\n",
              "      <td>-0.040695</td>\n",
              "      <td>-0.975111</td>\n",
              "      <td>-0.973779</td>\n",
              "      <td>-0.796388</td>\n",
              "      <td>0.005372</td>\n",
              "      <td>0.058375</td>\n",
              "      <td>-0.012159</td>\n",
              "      <td>0.042404</td>\n",
              "    </tr>\n",
              "  </tbody>\n",
              "</table>\n",
              "<p>3 rows × 101 columns</p>\n",
              "</div>"
            ],
            "text/plain": [
              "         ID  Age_mean  Albumin_max  ...  Urine.Ph_max  Urine.Ph_median  Urine.Ph_min\n",
              "0  0.047384  0.008468     0.103323  ...     -0.102793        -0.055972     -0.024281\n",
              "1 -0.031509  0.305580    -0.145493  ...      0.115260         0.127669     -0.015040\n",
              "2 -0.041547 -0.218123    -0.038610  ...      0.058375        -0.012159      0.042404\n",
              "\n",
              "[3 rows x 101 columns]"
            ]
          },
          "metadata": {},
          "execution_count": 423
        }
      ]
    },
    {
      "cell_type": "code",
      "metadata": {
        "colab": {
          "base_uri": "https://localhost:8080/"
        },
        "id": "tegj8p-_sbUS",
        "outputId": "74f45cf6-41a4-4ab1-c6c2-664979ab80f1"
      },
      "source": [
        "scaled_data_dframe['Clusters'] = pred\n",
        "scaled_data_dframe['Clusters'].value_counts()"
      ],
      "execution_count": 425,
      "outputs": [
        {
          "output_type": "execute_result",
          "data": {
            "text/plain": [
              "0    982\n",
              "2    740\n",
              "1    501\n",
              "Name: Clusters, dtype: int64"
            ]
          },
          "metadata": {},
          "execution_count": 425
        }
      ]
    },
    {
      "cell_type": "code",
      "metadata": {
        "id": "YlV0w1TkcShj"
      },
      "source": [
        "#visualizing the centriod values with few features in the data set \n",
        "\n",
        "few_features= ['mouth_range', 'pulse_range', 'leg_range','respiratory_range', 'trunk_min', 'Age_mean']\n",
        "\n",
        "fig, ax = plt.subplots(6,1,figsize=(10,75))\n",
        "for i,y in enumerate(few_features):\n",
        "  sns.scatterplot ( 'ALSFRS_slope',y, hue = 'Clusters',palette='hls' ,data = scaled_data_dframe, ax=ax[i])\n",
        "  sns.scatterplot (  'ALSFRS_slope' , y,   color='.3', s = 100, marker=\"*\",label = 'centroid', data = centroids_dfarme, ax=ax[i])\n",
        "  "
      ],
      "execution_count": null,
      "outputs": []
    },
    {
      "cell_type": "markdown",
      "metadata": {
        "id": "wv2t_NDR7-iB"
      },
      "source": [
        "**Model evaluation with testing data**"
      ]
    },
    {
      "cell_type": "code",
      "metadata": {
        "colab": {
          "base_uri": "https://localhost:8080/"
        },
        "id": "iomjrDLoKcxa",
        "outputId": "072c8e91-f91d-4fd5-9f7c-ae1356a6a30c"
      },
      "source": [
        "data_test = pd.read_csv('/content/gdrive/MyDrive/Colab Notebooks/ALS_TestingData_78.csv')\n",
        "data_test.shape"
      ],
      "execution_count": 428,
      "outputs": [
        {
          "output_type": "execute_result",
          "data": {
            "text/plain": [
              "(78, 131)"
            ]
          },
          "metadata": {},
          "execution_count": 428
        }
      ]
    },
    {
      "cell_type": "code",
      "metadata": {
        "id": "up7vvofrfchV"
      },
      "source": [
        "data_test.isnull().sum()"
      ],
      "execution_count": null,
      "outputs": []
    },
    {
      "cell_type": "code",
      "metadata": {
        "id": "CYSEOu1Bz-DR"
      },
      "source": [
        "data_test.describe()"
      ],
      "execution_count": null,
      "outputs": []
    },
    {
      "cell_type": "code",
      "metadata": {
        "colab": {
          "base_uri": "https://localhost:8080/",
          "height": 253
        },
        "id": "X0vIiVoguzaV",
        "outputId": "91e0d82c-c615-4fd4-f40a-faa908328f65"
      },
      "source": [
        "# Data standaraization the test data\n",
        "\n",
        "scaled_test_data= StandardScaler().fit_transform(data_test)\n",
        "\n",
        "# Turning standard to dataframe \n",
        "scaled_test_dframe = pd.DataFrame(scaled_test_data)\n",
        "scaled_test_dframe.columns = [c for c in data_test.columns]\n",
        "scaled_test_dframe.head()"
      ],
      "execution_count": 431,
      "outputs": [
        {
          "output_type": "execute_result",
          "data": {
            "text/html": [
              "<div>\n",
              "<style scoped>\n",
              "    .dataframe tbody tr th:only-of-type {\n",
              "        vertical-align: middle;\n",
              "    }\n",
              "\n",
              "    .dataframe tbody tr th {\n",
              "        vertical-align: top;\n",
              "    }\n",
              "\n",
              "    .dataframe thead th {\n",
              "        text-align: right;\n",
              "    }\n",
              "</style>\n",
              "<table border=\"1\" class=\"dataframe\">\n",
              "  <thead>\n",
              "    <tr style=\"text-align: right;\">\n",
              "      <th></th>\n",
              "      <th>ID</th>\n",
              "      <th>Age_mean</th>\n",
              "      <th>Albumin_max</th>\n",
              "      <th>Albumin_median</th>\n",
              "      <th>Albumin_min</th>\n",
              "      <th>Albumin_range</th>\n",
              "      <th>ALSFRS_slope</th>\n",
              "      <th>ALSFRS_Total_max</th>\n",
              "      <th>ALSFRS_Total_median</th>\n",
              "      <th>ALSFRS_Total_min</th>\n",
              "      <th>ALSFRS_Total_range</th>\n",
              "      <th>ALT.SGPT._max</th>\n",
              "      <th>ALT.SGPT._median</th>\n",
              "      <th>ALT.SGPT._min</th>\n",
              "      <th>ALT.SGPT._range</th>\n",
              "      <th>AST.SGOT._max</th>\n",
              "      <th>AST.SGOT._median</th>\n",
              "      <th>AST.SGOT._min</th>\n",
              "      <th>AST.SGOT._range</th>\n",
              "      <th>Basophils_max</th>\n",
              "      <th>Basophils_median</th>\n",
              "      <th>Basophils_min</th>\n",
              "      <th>Basophils_range</th>\n",
              "      <th>Bicarbonate_max</th>\n",
              "      <th>Bicarbonate_median</th>\n",
              "      <th>Bicarbonate_min</th>\n",
              "      <th>Bicarbonate_range</th>\n",
              "      <th>Bilirubin..total._max</th>\n",
              "      <th>Bilirubin..total._median</th>\n",
              "      <th>Bilirubin..total._min</th>\n",
              "      <th>Bilirubin..total._range</th>\n",
              "      <th>Blood.Urea.Nitrogen..BUN._max</th>\n",
              "      <th>Blood.Urea.Nitrogen..BUN._median</th>\n",
              "      <th>Blood.Urea.Nitrogen..BUN._min</th>\n",
              "      <th>Blood.Urea.Nitrogen..BUN._range</th>\n",
              "      <th>BMI_max</th>\n",
              "      <th>bp_diastolic_max</th>\n",
              "      <th>bp_diastolic_median</th>\n",
              "      <th>bp_diastolic_min</th>\n",
              "      <th>bp_diastolic_range</th>\n",
              "      <th>...</th>\n",
              "      <th>mouth_min</th>\n",
              "      <th>mouth_range</th>\n",
              "      <th>onset_delta_mean</th>\n",
              "      <th>onset_site_mean</th>\n",
              "      <th>Platelets_max</th>\n",
              "      <th>Platelets_median</th>\n",
              "      <th>Platelets_min</th>\n",
              "      <th>Potassium_max</th>\n",
              "      <th>Potassium_median</th>\n",
              "      <th>Potassium_min</th>\n",
              "      <th>Potassium_range</th>\n",
              "      <th>pulse_max</th>\n",
              "      <th>pulse_median</th>\n",
              "      <th>pulse_min</th>\n",
              "      <th>pulse_range</th>\n",
              "      <th>Red.Blood.Cells..RBC._max</th>\n",
              "      <th>Red.Blood.Cells..RBC._median</th>\n",
              "      <th>Red.Blood.Cells..RBC._min</th>\n",
              "      <th>Red.Blood.Cells..RBC._range</th>\n",
              "      <th>respiratory_max</th>\n",
              "      <th>respiratory_median</th>\n",
              "      <th>respiratory_min</th>\n",
              "      <th>respiratory_range</th>\n",
              "      <th>Sodium_max</th>\n",
              "      <th>Sodium_median</th>\n",
              "      <th>Sodium_min</th>\n",
              "      <th>Sodium_range</th>\n",
              "      <th>SubjectID</th>\n",
              "      <th>trunk_max</th>\n",
              "      <th>trunk_median</th>\n",
              "      <th>trunk_min</th>\n",
              "      <th>trunk_range</th>\n",
              "      <th>Urine.Ph_max</th>\n",
              "      <th>Urine.Ph_median</th>\n",
              "      <th>Urine.Ph_min</th>\n",
              "      <th>Urine.Ph_range</th>\n",
              "      <th>White.Blood.Cell..WBC._max</th>\n",
              "      <th>White.Blood.Cell..WBC._median</th>\n",
              "      <th>White.Blood.Cell..WBC._min</th>\n",
              "      <th>White.Blood.Cell..WBC._range</th>\n",
              "    </tr>\n",
              "  </thead>\n",
              "  <tbody>\n",
              "    <tr>\n",
              "      <th>0</th>\n",
              "      <td>-1.717812</td>\n",
              "      <td>0.945850</td>\n",
              "      <td>0.244852</td>\n",
              "      <td>0.596349</td>\n",
              "      <td>1.034793</td>\n",
              "      <td>0.587818</td>\n",
              "      <td>-1.458910</td>\n",
              "      <td>0.526079</td>\n",
              "      <td>-1.851243</td>\n",
              "      <td>-1.341512</td>\n",
              "      <td>0.024737</td>\n",
              "      <td>0.988218</td>\n",
              "      <td>-0.434457</td>\n",
              "      <td>-0.033636</td>\n",
              "      <td>3.342091</td>\n",
              "      <td>0.735391</td>\n",
              "      <td>-0.523946</td>\n",
              "      <td>-0.014417</td>\n",
              "      <td>2.938099</td>\n",
              "      <td>-0.948815</td>\n",
              "      <td>-0.835895</td>\n",
              "      <td>-0.094050</td>\n",
              "      <td>0.259338</td>\n",
              "      <td>-0.337896</td>\n",
              "      <td>0.233431</td>\n",
              "      <td>0.798241</td>\n",
              "      <td>1.294372</td>\n",
              "      <td>-0.570797</td>\n",
              "      <td>-0.346779</td>\n",
              "      <td>-0.970983</td>\n",
              "      <td>0.704731</td>\n",
              "      <td>0.084951</td>\n",
              "      <td>0.889771</td>\n",
              "      <td>1.166592</td>\n",
              "      <td>1.012854</td>\n",
              "      <td>0.839960</td>\n",
              "      <td>0.050251</td>\n",
              "      <td>-0.570858</td>\n",
              "      <td>0.199303</td>\n",
              "      <td>3.420706</td>\n",
              "      <td>...</td>\n",
              "      <td>-1.006563</td>\n",
              "      <td>-0.402466</td>\n",
              "      <td>-0.465062</td>\n",
              "      <td>-1.410562</td>\n",
              "      <td>-0.471302</td>\n",
              "      <td>-0.118567</td>\n",
              "      <td>0.193570</td>\n",
              "      <td>-0.901443</td>\n",
              "      <td>0.142804</td>\n",
              "      <td>0.498807</td>\n",
              "      <td>0.809669</td>\n",
              "      <td>-0.438835</td>\n",
              "      <td>-0.180207</td>\n",
              "      <td>-0.445870</td>\n",
              "      <td>3.425035</td>\n",
              "      <td>-0.874717</td>\n",
              "      <td>-0.206776</td>\n",
              "      <td>0.223197</td>\n",
              "      <td>0.027270</td>\n",
              "      <td>0.361158</td>\n",
              "      <td>-2.39877</td>\n",
              "      <td>-1.273404</td>\n",
              "      <td>0.000637</td>\n",
              "      <td>-1.919383</td>\n",
              "      <td>-1.540062</td>\n",
              "      <td>-0.230618</td>\n",
              "      <td>0.085914</td>\n",
              "      <td>-1.787192</td>\n",
              "      <td>0.637377</td>\n",
              "      <td>-1.415480</td>\n",
              "      <td>-0.851721</td>\n",
              "      <td>-0.175258</td>\n",
              "      <td>-0.860781</td>\n",
              "      <td>-0.338062</td>\n",
              "      <td>0.957082</td>\n",
              "      <td>-0.093814</td>\n",
              "      <td>-0.264257</td>\n",
              "      <td>0.532693</td>\n",
              "      <td>0.873580</td>\n",
              "      <td>0.269658</td>\n",
              "    </tr>\n",
              "    <tr>\n",
              "      <th>1</th>\n",
              "      <td>-1.682459</td>\n",
              "      <td>-0.193890</td>\n",
              "      <td>-2.060136</td>\n",
              "      <td>-2.015032</td>\n",
              "      <td>-1.495422</td>\n",
              "      <td>-0.273925</td>\n",
              "      <td>-0.815078</td>\n",
              "      <td>0.361283</td>\n",
              "      <td>0.162818</td>\n",
              "      <td>-0.074453</td>\n",
              "      <td>0.765499</td>\n",
              "      <td>-0.351815</td>\n",
              "      <td>0.210699</td>\n",
              "      <td>-0.127337</td>\n",
              "      <td>-0.369064</td>\n",
              "      <td>0.020715</td>\n",
              "      <td>0.443975</td>\n",
              "      <td>-0.175064</td>\n",
              "      <td>-0.166483</td>\n",
              "      <td>-0.418295</td>\n",
              "      <td>0.119414</td>\n",
              "      <td>-0.094050</td>\n",
              "      <td>-0.420587</td>\n",
              "      <td>-0.447865</td>\n",
              "      <td>0.233431</td>\n",
              "      <td>-0.082421</td>\n",
              "      <td>-0.499186</td>\n",
              "      <td>1.172846</td>\n",
              "      <td>0.429503</td>\n",
              "      <td>-0.087756</td>\n",
              "      <td>0.205158</td>\n",
              "      <td>-0.950541</td>\n",
              "      <td>-0.958462</td>\n",
              "      <td>-0.627765</td>\n",
              "      <td>-0.634048</td>\n",
              "      <td>0.685970</td>\n",
              "      <td>1.779469</td>\n",
              "      <td>2.186226</td>\n",
              "      <td>1.024736</td>\n",
              "      <td>0.287992</td>\n",
              "      <td>...</td>\n",
              "      <td>1.128202</td>\n",
              "      <td>-0.959416</td>\n",
              "      <td>0.873475</td>\n",
              "      <td>1.230010</td>\n",
              "      <td>0.474251</td>\n",
              "      <td>-0.195893</td>\n",
              "      <td>-0.645233</td>\n",
              "      <td>-0.114362</td>\n",
              "      <td>0.142804</td>\n",
              "      <td>0.101797</td>\n",
              "      <td>-0.430922</td>\n",
              "      <td>0.591720</td>\n",
              "      <td>0.125361</td>\n",
              "      <td>0.396501</td>\n",
              "      <td>0.049236</td>\n",
              "      <td>1.722193</td>\n",
              "      <td>1.037000</td>\n",
              "      <td>0.844074</td>\n",
              "      <td>0.202938</td>\n",
              "      <td>0.361158</td>\n",
              "      <td>0.79959</td>\n",
              "      <td>0.739951</td>\n",
              "      <td>-0.485982</td>\n",
              "      <td>0.369789</td>\n",
              "      <td>0.156617</td>\n",
              "      <td>-1.258514</td>\n",
              "      <td>0.421791</td>\n",
              "      <td>-1.765746</td>\n",
              "      <td>0.159344</td>\n",
              "      <td>-0.213221</td>\n",
              "      <td>-0.851721</td>\n",
              "      <td>1.509194</td>\n",
              "      <td>-0.860781</td>\n",
              "      <td>-1.217022</td>\n",
              "      <td>-1.238577</td>\n",
              "      <td>-0.267295</td>\n",
              "      <td>-0.445725</td>\n",
              "      <td>-0.101111</td>\n",
              "      <td>-0.210106</td>\n",
              "      <td>-0.375913</td>\n",
              "    </tr>\n",
              "    <tr>\n",
              "      <th>2</th>\n",
              "      <td>-1.647105</td>\n",
              "      <td>0.035316</td>\n",
              "      <td>0.244852</td>\n",
              "      <td>0.269926</td>\n",
              "      <td>0.022707</td>\n",
              "      <td>-0.526281</td>\n",
              "      <td>0.640669</td>\n",
              "      <td>-2.440247</td>\n",
              "      <td>-1.291782</td>\n",
              "      <td>-1.341512</td>\n",
              "      <td>-0.754729</td>\n",
              "      <td>-0.497470</td>\n",
              "      <td>-0.706102</td>\n",
              "      <td>-1.064347</td>\n",
              "      <td>-0.465540</td>\n",
              "      <td>-0.352159</td>\n",
              "      <td>-0.739040</td>\n",
              "      <td>-1.138948</td>\n",
              "      <td>-0.440694</td>\n",
              "      <td>-0.153035</td>\n",
              "      <td>0.119414</td>\n",
              "      <td>0.884069</td>\n",
              "      <td>-0.647939</td>\n",
              "      <td>-0.337896</td>\n",
              "      <td>-0.223473</td>\n",
              "      <td>-0.522752</td>\n",
              "      <td>-0.738104</td>\n",
              "      <td>-1.268254</td>\n",
              "      <td>-1.588829</td>\n",
              "      <td>-1.412596</td>\n",
              "      <td>-0.503305</td>\n",
              "      <td>0.226155</td>\n",
              "      <td>-0.232370</td>\n",
              "      <td>-1.017843</td>\n",
              "      <td>-0.336651</td>\n",
              "      <td>-0.868814</td>\n",
              "      <td>-0.641437</td>\n",
              "      <td>-1.053347</td>\n",
              "      <td>-0.350985</td>\n",
              "      <td>-0.859650</td>\n",
              "      <td>...</td>\n",
              "      <td>-1.006563</td>\n",
              "      <td>0.660773</td>\n",
              "      <td>-2.021284</td>\n",
              "      <td>-0.530371</td>\n",
              "      <td>1.010916</td>\n",
              "      <td>1.675402</td>\n",
              "      <td>1.815255</td>\n",
              "      <td>1.459799</td>\n",
              "      <td>1.535143</td>\n",
              "      <td>0.101797</td>\n",
              "      <td>-0.268618</td>\n",
              "      <td>1.990330</td>\n",
              "      <td>2.518974</td>\n",
              "      <td>0.637178</td>\n",
              "      <td>-0.133013</td>\n",
              "      <td>0.140439</td>\n",
              "      <td>-0.341969</td>\n",
              "      <td>-0.422515</td>\n",
              "      <td>-0.342339</td>\n",
              "      <td>0.361158</td>\n",
              "      <td>0.79959</td>\n",
              "      <td>-1.273404</td>\n",
              "      <td>0.522282</td>\n",
              "      <td>-1.003714</td>\n",
              "      <td>-0.861391</td>\n",
              "      <td>-0.744566</td>\n",
              "      <td>-0.887453</td>\n",
              "      <td>-1.759064</td>\n",
              "      <td>-2.708854</td>\n",
              "      <td>-1.415480</td>\n",
              "      <td>-0.851721</td>\n",
              "      <td>-1.803831</td>\n",
              "      <td>0.631239</td>\n",
              "      <td>0.980379</td>\n",
              "      <td>0.957082</td>\n",
              "      <td>-0.229130</td>\n",
              "      <td>-0.151267</td>\n",
              "      <td>0.221770</td>\n",
              "      <td>-0.183512</td>\n",
              "      <td>-0.464279</td>\n",
              "    </tr>\n",
              "    <tr>\n",
              "      <th>3</th>\n",
              "      <td>-1.611752</td>\n",
              "      <td>1.588363</td>\n",
              "      <td>1.561988</td>\n",
              "      <td>0.106715</td>\n",
              "      <td>0.528750</td>\n",
              "      <td>5.702402</td>\n",
              "      <td>0.685649</td>\n",
              "      <td>0.690875</td>\n",
              "      <td>0.274710</td>\n",
              "      <td>0.664665</td>\n",
              "      <td>0.373247</td>\n",
              "      <td>1.454316</td>\n",
              "      <td>0.482343</td>\n",
              "      <td>-0.221038</td>\n",
              "      <td>5.713213</td>\n",
              "      <td>1.077192</td>\n",
              "      <td>1.411897</td>\n",
              "      <td>0.306877</td>\n",
              "      <td>4.693156</td>\n",
              "      <td>-0.816185</td>\n",
              "      <td>0.119414</td>\n",
              "      <td>-0.094050</td>\n",
              "      <td>0.924573</td>\n",
              "      <td>-0.337896</td>\n",
              "      <td>0.690334</td>\n",
              "      <td>1.678903</td>\n",
              "      <td>0.221461</td>\n",
              "      <td>-0.570797</td>\n",
              "      <td>-0.967804</td>\n",
              "      <td>-0.970983</td>\n",
              "      <td>1.044945</td>\n",
              "      <td>-0.103320</td>\n",
              "      <td>-0.364387</td>\n",
              "      <td>-0.237687</td>\n",
              "      <td>3.428043</td>\n",
              "      <td>-0.553115</td>\n",
              "      <td>-2.716499</td>\n",
              "      <td>-2.914378</td>\n",
              "      <td>-1.864279</td>\n",
              "      <td>2.132848</td>\n",
              "      <td>...</td>\n",
              "      <td>-1.006563</td>\n",
              "      <td>1.264208</td>\n",
              "      <td>0.123153</td>\n",
              "      <td>-1.410562</td>\n",
              "      <td>0.908694</td>\n",
              "      <td>1.551680</td>\n",
              "      <td>1.703415</td>\n",
              "      <td>0.410358</td>\n",
              "      <td>1.535143</td>\n",
              "      <td>2.483855</td>\n",
              "      <td>1.493972</td>\n",
              "      <td>-1.469390</td>\n",
              "      <td>-0.587630</td>\n",
              "      <td>-0.205193</td>\n",
              "      <td>1.225083</td>\n",
              "      <td>-2.078739</td>\n",
              "      <td>-2.072440</td>\n",
              "      <td>-1.440753</td>\n",
              "      <td>1.112279</td>\n",
              "      <td>0.361158</td>\n",
              "      <td>0.79959</td>\n",
              "      <td>0.739951</td>\n",
              "      <td>-0.355722</td>\n",
              "      <td>-0.088045</td>\n",
              "      <td>-0.182719</td>\n",
              "      <td>0.283330</td>\n",
              "      <td>3.710817</td>\n",
              "      <td>-1.730863</td>\n",
              "      <td>1.115411</td>\n",
              "      <td>0.788661</td>\n",
              "      <td>1.423424</td>\n",
              "      <td>0.156589</td>\n",
              "      <td>0.631239</td>\n",
              "      <td>1.419859</td>\n",
              "      <td>0.957082</td>\n",
              "      <td>4.140767</td>\n",
              "      <td>1.040259</td>\n",
              "      <td>0.667227</td>\n",
              "      <td>-0.216754</td>\n",
              "      <td>4.394653</td>\n",
              "    </tr>\n",
              "    <tr>\n",
              "      <th>4</th>\n",
              "      <td>-1.505692</td>\n",
              "      <td>0.859045</td>\n",
              "      <td>-0.084432</td>\n",
              "      <td>-0.056496</td>\n",
              "      <td>-0.736357</td>\n",
              "      <td>0.343078</td>\n",
              "      <td>1.279778</td>\n",
              "      <td>1.185263</td>\n",
              "      <td>1.729309</td>\n",
              "      <td>2.354077</td>\n",
              "      <td>-1.934531</td>\n",
              "      <td>-0.322683</td>\n",
              "      <td>-1.079613</td>\n",
              "      <td>-0.876945</td>\n",
              "      <td>-0.184143</td>\n",
              "      <td>6.949960</td>\n",
              "      <td>-0.416399</td>\n",
              "      <td>0.146230</td>\n",
              "      <td>4.464373</td>\n",
              "      <td>-0.550925</td>\n",
              "      <td>0.597068</td>\n",
              "      <td>1.373128</td>\n",
              "      <td>-0.669263</td>\n",
              "      <td>-0.191271</td>\n",
              "      <td>-0.726067</td>\n",
              "      <td>-0.830984</td>\n",
              "      <td>0.095882</td>\n",
              "      <td>-0.047704</td>\n",
              "      <td>0.429503</td>\n",
              "      <td>-0.087756</td>\n",
              "      <td>-0.170074</td>\n",
              "      <td>-0.103320</td>\n",
              "      <td>0.229688</td>\n",
              "      <td>0.230406</td>\n",
              "      <td>-0.369858</td>\n",
              "      <td>0.248132</td>\n",
              "      <td>1.318344</td>\n",
              "      <td>0.669830</td>\n",
              "      <td>0.199303</td>\n",
              "      <td>0.580384</td>\n",
              "      <td>...</td>\n",
              "      <td>1.365398</td>\n",
              "      <td>-1.323898</td>\n",
              "      <td>0.868843</td>\n",
              "      <td>1.230010</td>\n",
              "      <td>0.576473</td>\n",
              "      <td>-0.381476</td>\n",
              "      <td>-0.449512</td>\n",
              "      <td>1.197439</td>\n",
              "      <td>1.303087</td>\n",
              "      <td>1.292826</td>\n",
              "      <td>0.073540</td>\n",
              "      <td>-0.880502</td>\n",
              "      <td>-1.147838</td>\n",
              "      <td>-0.686548</td>\n",
              "      <td>-0.361560</td>\n",
              "      <td>-0.166469</td>\n",
              "      <td>-0.044544</td>\n",
              "      <td>0.099022</td>\n",
              "      <td>-0.285324</td>\n",
              "      <td>0.361158</td>\n",
              "      <td>0.79959</td>\n",
              "      <td>1.411069</td>\n",
              "      <td>-1.195987</td>\n",
              "      <td>1.285458</td>\n",
              "      <td>2.531967</td>\n",
              "      <td>1.311227</td>\n",
              "      <td>-0.138413</td>\n",
              "      <td>-1.586917</td>\n",
              "      <td>0.637377</td>\n",
              "      <td>1.389791</td>\n",
              "      <td>2.333482</td>\n",
              "      <td>-1.803831</td>\n",
              "      <td>-1.606791</td>\n",
              "      <td>-1.217022</td>\n",
              "      <td>-1.238577</td>\n",
              "      <td>-0.458095</td>\n",
              "      <td>0.749225</td>\n",
              "      <td>1.495359</td>\n",
              "      <td>1.764464</td>\n",
              "      <td>-0.252599</td>\n",
              "    </tr>\n",
              "  </tbody>\n",
              "</table>\n",
              "<p>5 rows × 131 columns</p>\n",
              "</div>"
            ],
            "text/plain": [
              "         ID  Age_mean  ...  White.Blood.Cell..WBC._min  White.Blood.Cell..WBC._range\n",
              "0 -1.717812  0.945850  ...                    0.873580                      0.269658\n",
              "1 -1.682459 -0.193890  ...                   -0.210106                     -0.375913\n",
              "2 -1.647105  0.035316  ...                   -0.183512                     -0.464279\n",
              "3 -1.611752  1.588363  ...                   -0.216754                      4.394653\n",
              "4 -1.505692  0.859045  ...                    1.764464                     -0.252599\n",
              "\n",
              "[5 rows x 131 columns]"
            ]
          },
          "metadata": {},
          "execution_count": 431
        }
      ]
    },
    {
      "cell_type": "code",
      "metadata": {
        "colab": {
          "base_uri": "https://localhost:8080/"
        },
        "id": "zqMCQEZjwZfy",
        "outputId": "9e143a34-043a-449a-d969-62ba1166892b"
      },
      "source": [
        "#Applying the model for the test data\n",
        "kmeans_test_cluster = KMeans (n_clusters = 3, init='k-means++', max_iter=100, n_init=10, random_state=0)\n",
        "kmeans_test_cluster.fit(scaled_test_dframe)\n",
        "\n",
        "# print the SSE of the model\n",
        "print ('SSE::::::::::::::::::::::::::::::::',(kmeans_test_cluster.inertia_))\n",
        "\n",
        "# apply the model to cluster the dataset\n",
        "pred_test = kmeans_test_cluster.predict(scaled_test_dframe)\n",
        "pred_test"
      ],
      "execution_count": 432,
      "outputs": [
        {
          "output_type": "stream",
          "name": "stdout",
          "text": [
            "SSE:::::::::::::::::::::::::::::::: 8735.029375726323\n"
          ]
        },
        {
          "output_type": "execute_result",
          "data": {
            "text/plain": [
              "array([2, 1, 2, 2, 1, 2, 2, 2, 1, 1, 2, 2, 2, 2, 1, 1, 1, 2, 1, 1, 1, 1,\n",
              "       1, 1, 1, 2, 2, 2, 1, 0, 1, 2, 2, 2, 1, 2, 1, 2, 1, 2, 1, 2, 2, 2,\n",
              "       1, 1, 1, 1, 1, 2, 2, 1, 2, 2, 1, 2, 2, 1, 1, 2, 1, 1, 2, 1, 2, 2,\n",
              "       2, 2, 2, 2, 2, 2, 1, 1, 2, 2, 1, 2], dtype=int32)"
            ]
          },
          "metadata": {},
          "execution_count": 432
        }
      ]
    },
    {
      "cell_type": "code",
      "metadata": {
        "colab": {
          "base_uri": "https://localhost:8080/"
        },
        "id": "MiyXt08Ih0tF",
        "outputId": "65caeec1-9910-494f-bbb9-32062e7e3dad"
      },
      "source": [
        "scaled_test_dframe['Clusters'] = pred_test\n",
        "scaled_test_dframe['Clusters'].value_counts()"
      ],
      "execution_count": 433,
      "outputs": [
        {
          "output_type": "execute_result",
          "data": {
            "text/plain": [
              "2    42\n",
              "1    35\n",
              "0     1\n",
              "Name: Clusters, dtype: int64"
            ]
          },
          "metadata": {},
          "execution_count": 433
        }
      ]
    },
    {
      "cell_type": "code",
      "metadata": {
        "colab": {
          "base_uri": "https://localhost:8080/",
          "height": 284
        },
        "id": "d4rIelydk1EH",
        "outputId": "1604ffb9-efcd-4690-c76e-0b181b121d25"
      },
      "source": [
        "#Visualizing the cluster items\n",
        "sns.countplot(x='Clusters', data=scaled_test_dframe)\n",
        "plt.show()"
      ],
      "execution_count": 434,
      "outputs": [
        {
          "output_type": "display_data",
          "data": {
            "image/png": "[encoded data removed]",
            "text/plain": [
              "<Figure size 432x288 with 1 Axes>"
            ]
          },
          "metadata": {}
        }
      ]
    },
    {
      "cell_type": "code",
      "metadata": {
        "id": "iG9UZvhWloZa"
      },
      "source": [
        "# Print centroids of clusters\n",
        "centroids_test  = kmeans_test_cluster.cluster_centers_\n",
        "centroids_test"
      ],
      "execution_count": null,
      "outputs": []
    },
    {
      "cell_type": "code",
      "metadata": {
        "colab": {
          "base_uri": "https://localhost:8080/"
        },
        "id": "TB3b91jElz0A",
        "outputId": "ce231a34-5ab2-41bb-8a4c-c76ed4ae7c28"
      },
      "source": [
        "#converting centriod values into a dataframe\n",
        "#scaled_test_dframe.drop('Clusters', axis=1, inplace=True)\n",
        "centroids_test_dfarme = pd.DataFrame(centroids_test, columns = scaled_test_dframe.columns)\n",
        "centroids_test_dfarme.ALSFRS_slope"
      ],
      "execution_count": 456,
      "outputs": [
        {
          "output_type": "execute_result",
          "data": {
            "text/plain": [
              "0   -0.124221\n",
              "1    0.239391\n",
              "2   -0.196535\n",
              "Name: ALSFRS_slope, dtype: float64"
            ]
          },
          "metadata": {},
          "execution_count": 456
        }
      ]
    },
    {
      "cell_type": "code",
      "metadata": {
        "id": "0iLULJXvk-bR"
      },
      "source": [
        ""
      ],
      "execution_count": 439,
      "outputs": []
    }
  ]
}