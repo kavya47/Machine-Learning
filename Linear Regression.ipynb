{
  "nbformat": 4,
  "nbformat_minor": 0,
  "metadata": {
    "colab": {
      "name": "Assignment1_kavya_Kongara.ipynb",
      "provenance": [],
      "collapsed_sections": []
    },
    "kernelspec": {
      "name": "python3",
      "display_name": "Python 3"
    },
    "language_info": {
      "name": "python"
    }
  },
  "cells": [
    {
      "cell_type": "code",
      "metadata": {
        "colab": {
          "base_uri": "https://localhost:8080/"
        },
        "id": "IejveUxoncpw",
        "outputId": "165e1f5d-a052-40af-916a-0544a5e5cce0"
      },
      "source": [
        "from google.colab import drive \n",
        "drive.mount('gdrive')\n"
      ],
      "execution_count": 233,
      "outputs": [
        {
          "output_type": "stream",
          "name": "stdout",
          "text": [
            "Drive already mounted at gdrive; to attempt to forcibly remount, call drive.mount(\"gdrive\", force_remount=True).\n"
          ]
        }
      ]
    },
    {
      "cell_type": "code",
      "metadata": {
        "id": "pZj2cpMRooeX"
      },
      "source": [
        "#importing the packages\n",
        "import pandas as pd \n",
        "import numpy as np \n",
        "import matplotlib.pyplot as plt\n",
        "from sklearn.model_selection import train_test_split\n",
        "import seaborn as sns\n",
        "from sklearn.metrics import r2_score\n",
        "from sklearn import metrics\n",
        "from sklearn.linear_model import LinearRegression"
      ],
      "execution_count": 234,
      "outputs": []
    },
    {
      "cell_type": "code",
      "metadata": {
        "id": "Us0NSPyHot1S"
      },
      "source": [
        "#Reading the data set\n",
        "dataset=pd.read_csv('/content/gdrive/MyDrive/Colab Notebooks/monet.csv')\n",
        "\n",
        "#creating a new attribute called SIZE.\n",
        "dataset[\"SIZE\"]=dataset.HEIGHT*dataset.WIDTH\n",
        "#dataset.to_csv('/content/gdrive/MyDrive/Colab Notebooks/monet_size.csv',index=False)"
      ],
      "execution_count": 235,
      "outputs": []
    },
    {
      "cell_type": "code",
      "metadata": {
        "id": "KW_JrMdATscc"
      },
      "source": [
        "#dataset.columns"
      ],
      "execution_count": 236,
      "outputs": []
    },
    {
      "cell_type": "markdown",
      "metadata": {
        "id": "7neZzhsqcjZF"
      },
      "source": [
        "## **Model one** (Size VS price)"
      ]
    },
    {
      "cell_type": "code",
      "metadata": {
        "colab": {
          "base_uri": "https://localhost:8080/",
          "height": 295
        },
        "id": "WEIF9iJxFuUX",
        "outputId": "de81734c-8a80-4e38-c96d-be01b0b26802"
      },
      "source": [
        "dataset.describe()"
      ],
      "execution_count": 292,
      "outputs": [
        {
          "output_type": "execute_result",
          "data": {
            "text/html": [
              "<div>\n",
              "<style scoped>\n",
              "    .dataframe tbody tr th:only-of-type {\n",
              "        vertical-align: middle;\n",
              "    }\n",
              "\n",
              "    .dataframe tbody tr th {\n",
              "        vertical-align: top;\n",
              "    }\n",
              "\n",
              "    .dataframe thead th {\n",
              "        text-align: right;\n",
              "    }\n",
              "</style>\n",
              "<table border=\"1\" class=\"dataframe\">\n",
              "  <thead>\n",
              "    <tr style=\"text-align: right;\">\n",
              "      <th></th>\n",
              "      <th>PRICE</th>\n",
              "      <th>HEIGHT</th>\n",
              "      <th>WIDTH</th>\n",
              "      <th>SIGNED</th>\n",
              "      <th>PICTURE</th>\n",
              "      <th>HOUSE</th>\n",
              "      <th>SIZE</th>\n",
              "    </tr>\n",
              "  </thead>\n",
              "  <tbody>\n",
              "    <tr>\n",
              "      <th>count</th>\n",
              "      <td>430.000000</td>\n",
              "      <td>430.000000</td>\n",
              "      <td>430.000000</td>\n",
              "      <td>430.000000</td>\n",
              "      <td>430.000000</td>\n",
              "      <td>430.000000</td>\n",
              "      <td>430.000000</td>\n",
              "    </tr>\n",
              "    <tr>\n",
              "      <th>mean</th>\n",
              "      <td>3.089996</td>\n",
              "      <td>27.646977</td>\n",
              "      <td>32.111395</td>\n",
              "      <td>0.820930</td>\n",
              "      <td>182.644186</td>\n",
              "      <td>1.611628</td>\n",
              "      <td>940.811558</td>\n",
              "    </tr>\n",
              "    <tr>\n",
              "      <th>std</th>\n",
              "      <td>4.311260</td>\n",
              "      <td>10.097013</td>\n",
              "      <td>10.459677</td>\n",
              "      <td>0.383857</td>\n",
              "      <td>109.091529</td>\n",
              "      <td>0.591592</td>\n",
              "      <td>676.539289</td>\n",
              "    </tr>\n",
              "    <tr>\n",
              "      <th>min</th>\n",
              "      <td>0.010413</td>\n",
              "      <td>3.900000</td>\n",
              "      <td>6.700000</td>\n",
              "      <td>0.000000</td>\n",
              "      <td>1.000000</td>\n",
              "      <td>1.000000</td>\n",
              "      <td>26.130000</td>\n",
              "    </tr>\n",
              "    <tr>\n",
              "      <th>25%</th>\n",
              "      <td>0.600153</td>\n",
              "      <td>23.125000</td>\n",
              "      <td>28.525000</td>\n",
              "      <td>1.000000</td>\n",
              "      <td>87.250000</td>\n",
              "      <td>1.000000</td>\n",
              "      <td>637.902500</td>\n",
              "    </tr>\n",
              "    <tr>\n",
              "      <th>50%</th>\n",
              "      <td>1.312782</td>\n",
              "      <td>25.600000</td>\n",
              "      <td>31.900000</td>\n",
              "      <td>1.000000</td>\n",
              "      <td>179.500000</td>\n",
              "      <td>2.000000</td>\n",
              "      <td>816.640000</td>\n",
              "    </tr>\n",
              "    <tr>\n",
              "      <th>75%</th>\n",
              "      <td>3.850000</td>\n",
              "      <td>31.450000</td>\n",
              "      <td>36.200000</td>\n",
              "      <td>1.000000</td>\n",
              "      <td>274.750000</td>\n",
              "      <td>2.000000</td>\n",
              "      <td>1036.605000</td>\n",
              "    </tr>\n",
              "    <tr>\n",
              "      <th>max</th>\n",
              "      <td>33.013504</td>\n",
              "      <td>78.700000</td>\n",
              "      <td>89.000000</td>\n",
              "      <td>1.000000</td>\n",
              "      <td>387.000000</td>\n",
              "      <td>3.000000</td>\n",
              "      <td>6193.690000</td>\n",
              "    </tr>\n",
              "  </tbody>\n",
              "</table>\n",
              "</div>"
            ],
            "text/plain": [
              "            PRICE      HEIGHT       WIDTH  ...     PICTURE      HOUSE          SIZE\n",
              "count  430.000000  430.000000  430.000000  ...  430.000000  430.000000   430.000000\n",
              "mean     3.089996   27.646977   32.111395  ...  182.644186    1.611628   940.811558\n",
              "std      4.311260   10.097013   10.459677  ...  109.091529    0.591592   676.539289\n",
              "min      0.010413    3.900000    6.700000  ...    1.000000    1.000000    26.130000\n",
              "25%      0.600153   23.125000   28.525000  ...   87.250000    1.000000   637.902500\n",
              "50%      1.312782   25.600000   31.900000  ...  179.500000    2.000000   816.640000\n",
              "75%      3.850000   31.450000   36.200000  ...  274.750000    2.000000  1036.605000\n",
              "max     33.013504   78.700000   89.000000  ...  387.000000    3.000000  6193.690000\n",
              "\n",
              "[8 rows x 7 columns]"
            ]
          },
          "metadata": {},
          "execution_count": 292
        }
      ]
    },
    {
      "cell_type": "code",
      "metadata": {
        "id": "Av_gTxu5pG37"
      },
      "source": [
        "# pushing the independent value  to x (Size)\n",
        "X=dataset.iloc[:,-1:] \n",
        "# pushing the dependent value  to y (price)\n",
        "y=dataset.iloc[:,:1]\n"
      ],
      "execution_count": 237,
      "outputs": []
    },
    {
      "cell_type": "code",
      "metadata": {
        "colab": {
          "base_uri": "https://localhost:8080/",
          "height": 295
        },
        "id": "HhztCfufPUtY",
        "outputId": "82d29bc0-d263-42c4-d885-97b8ce0e6273"
      },
      "source": [
        "# visualization results before applying model\n",
        "dataset.plot(x='SIZE', y='PRICE', style='o')\n",
        "plt.title('price vs Size')\n",
        "plt.xlabel('Size')\n",
        "plt.ylabel('Price')\n",
        "plt.show()"
      ],
      "execution_count": 238,
      "outputs": [
        {
          "output_type": "display_data",
          "data": {
            "image/png": "[encoded data removed]",
            "text/plain": [
              "<Figure size 432x288 with 1 Axes>"
            ]
          },
          "metadata": {
            "needs_background": "light"
          }
        }
      ]
    },
    {
      "cell_type": "code",
      "metadata": {
        "id": "I3EV_if-o5Wx",
        "colab": {
          "base_uri": "https://localhost:8080/",
          "height": 110
        },
        "outputId": "f3bfaf30-d300-4673-91af-787732d83272"
      },
      "source": [
        "# Determine the correaltion between the variables\n",
        "data = {'size': X['SIZE'],'Price': y['PRICE']}\n",
        "df = pd.DataFrame(data)\n",
        "df.corr()"
      ],
      "execution_count": 239,
      "outputs": [
        {
          "output_type": "execute_result",
          "data": {
            "text/html": [
              "<div>\n",
              "<style scoped>\n",
              "    .dataframe tbody tr th:only-of-type {\n",
              "        vertical-align: middle;\n",
              "    }\n",
              "\n",
              "    .dataframe tbody tr th {\n",
              "        vertical-align: top;\n",
              "    }\n",
              "\n",
              "    .dataframe thead th {\n",
              "        text-align: right;\n",
              "    }\n",
              "</style>\n",
              "<table border=\"1\" class=\"dataframe\">\n",
              "  <thead>\n",
              "    <tr style=\"text-align: right;\">\n",
              "      <th></th>\n",
              "      <th>size</th>\n",
              "      <th>Price</th>\n",
              "    </tr>\n",
              "  </thead>\n",
              "  <tbody>\n",
              "    <tr>\n",
              "      <th>size</th>\n",
              "      <td>1.000000</td>\n",
              "      <td>0.347227</td>\n",
              "    </tr>\n",
              "    <tr>\n",
              "      <th>Price</th>\n",
              "      <td>0.347227</td>\n",
              "      <td>1.000000</td>\n",
              "    </tr>\n",
              "  </tbody>\n",
              "</table>\n",
              "</div>"
            ],
            "text/plain": [
              "           size     Price\n",
              "size   1.000000  0.347227\n",
              "Price  0.347227  1.000000"
            ]
          },
          "metadata": {},
          "execution_count": 239
        }
      ]
    },
    {
      "cell_type": "code",
      "metadata": {
        "id": "kVQm6O1ApJ-J"
      },
      "source": [
        "#Slipting the data into training and testing 80:20 ratio\n",
        "X_training, X_testing, y_training, y_testing = train_test_split(X, y, test_size=0.2, random_state=0)"
      ],
      "execution_count": 240,
      "outputs": []
    },
    {
      "cell_type": "code",
      "metadata": {
        "id": "MTizjN08ym31"
      },
      "source": [
        "X_training_size=X_training['SIZE'].values\n",
        "y_training_price=y_training['PRICE'].values\n",
        "\n",
        "X_training_size=X_training_size.reshape(-1,1)\n",
        "y_training_price=y_training_price.reshape(-1,1)\n"
      ],
      "execution_count": 241,
      "outputs": []
    },
    {
      "cell_type": "code",
      "metadata": {
        "id": "VP6xkui3zswD"
      },
      "source": [
        "X_testing_size=X_testing['SIZE'].values\n",
        "y_testing_price=y_testing['PRICE'].values\n",
        "\n",
        "X_testing_size=X_testing_size.reshape(-1,1)\n",
        "y_testing_price=y_testing_price.reshape(-1,1)\n"
      ],
      "execution_count": 242,
      "outputs": []
    },
    {
      "cell_type": "code",
      "metadata": {
        "id": "36HOwTbepss4",
        "colab": {
          "base_uri": "https://localhost:8080/"
        },
        "outputId": "eef9438a-4960-4042-8f21-a8da2812a055"
      },
      "source": [
        "# Applying Linear regression model \n",
        "model_one = LinearRegression()\n",
        "model_one.fit(X_training_size, y_training_price)"
      ],
      "execution_count": 243,
      "outputs": [
        {
          "output_type": "execute_result",
          "data": {
            "text/plain": [
              "LinearRegression(copy_X=True, fit_intercept=True, n_jobs=None, normalize=False)"
            ]
          },
          "metadata": {},
          "execution_count": 243
        }
      ]
    },
    {
      "cell_type": "code",
      "metadata": {
        "id": "Y5hX1W7d1hj3",
        "colab": {
          "base_uri": "https://localhost:8080/"
        },
        "outputId": "8f475ada-115b-4271-c7ab-30db5421f0e6"
      },
      "source": [
        "# To find the intercept\n",
        "model_one.intercept_"
      ],
      "execution_count": 244,
      "outputs": [
        {
          "output_type": "execute_result",
          "data": {
            "text/plain": [
              "array([0.86618293])"
            ]
          },
          "metadata": {},
          "execution_count": 244
        }
      ]
    },
    {
      "cell_type": "code",
      "metadata": {
        "id": "0IUdpAE61f10",
        "colab": {
          "base_uri": "https://localhost:8080/"
        },
        "outputId": "ae576261-0cbe-4b2e-9d33-1965a11ea9b6"
      },
      "source": [
        "# To find the coefficient\n",
        "model_one.coef_"
      ],
      "execution_count": 245,
      "outputs": [
        {
          "output_type": "execute_result",
          "data": {
            "text/plain": [
              "array([[0.00229678]])"
            ]
          },
          "metadata": {},
          "execution_count": 245
        }
      ]
    },
    {
      "cell_type": "code",
      "metadata": {
        "id": "enJOFErC1nv5",
        "colab": {
          "base_uri": "https://localhost:8080/"
        },
        "outputId": "9aa6ab65-9d9c-4980-ed57-dffc54e60918"
      },
      "source": [
        "# To determine whether regression line is a best fit or not (Type: boolean)\n",
        "model_one.fit_intercept"
      ],
      "execution_count": 246,
      "outputs": [
        {
          "output_type": "execute_result",
          "data": {
            "text/plain": [
              "True"
            ]
          },
          "metadata": {},
          "execution_count": 246
        }
      ]
    },
    {
      "cell_type": "code",
      "metadata": {
        "id": "3OHBo3g71qQx"
      },
      "source": [
        "#model_one.score(X_training_size,y_training_price)"
      ],
      "execution_count": 247,
      "outputs": []
    },
    {
      "cell_type": "code",
      "metadata": {
        "colab": {
          "base_uri": "https://localhost:8080/"
        },
        "id": "o_KfLelLTCwK",
        "outputId": "9702a37b-a842-4e5c-a5b1-0b1835b1a6ec"
      },
      "source": [
        "#Measuring the model perfomance\n",
        "#model_one.score(X_testing_size,y_testing_price)\n"
      ],
      "execution_count": 248,
      "outputs": [
        {
          "output_type": "execute_result",
          "data": {
            "text/plain": [
              "0.09654244437944359"
            ]
          },
          "metadata": {},
          "execution_count": 248
        }
      ]
    },
    {
      "cell_type": "code",
      "metadata": {
        "id": "YjR5m6Nbtdy4"
      },
      "source": [
        "#To make predictions on the test data\n",
        "#y_prediction contains all the predicted values for the input test values\n",
        "y_prediction = model_one.predict(X_testing_size)\n",
        "y_prediction=y_prediction.reshape(-1,1)\n",
        "#y_prediction=y_prediction.flatten()\n",
        "y_prediction\n"
      ],
      "execution_count": null,
      "outputs": []
    },
    {
      "cell_type": "code",
      "metadata": {
        "colab": {
          "base_uri": "https://localhost:8080/"
        },
        "id": "1F3AJGoBsqAu",
        "outputId": "0ec06689-1607-4c48-997c-e35dcd9f7ee4"
      },
      "source": [
        "from sklearn.metrics import r2_score\n",
        "from sklearn.metrics import mean_squared_error\n",
        "# predicting the accuracy score\n",
        "score=r2_score(y_testing_price,y_prediction)\n",
        "score"
      ],
      "execution_count": 291,
      "outputs": [
        {
          "output_type": "execute_result",
          "data": {
            "text/plain": [
              "0.09654244437944359"
            ]
          },
          "metadata": {},
          "execution_count": 291
        }
      ]
    },
    {
      "cell_type": "code",
      "metadata": {
        "id": "fYeoU54srGV3",
        "colab": {
          "base_uri": "https://localhost:8080/",
          "height": 295
        },
        "outputId": "2e33018d-9dc5-49f6-8fd3-80ba244219be"
      },
      "source": [
        "#Visualization for traning data\n",
        "plt.scatter(X_training_size, y_training_price, color='green')\n",
        "plt.plot(X_training_size, model_one.predict(X_training_size), color='blue')\n",
        "plt.title('Training set')\n",
        "plt.xlabel('size')\n",
        "plt.ylabel('price')\n",
        "plt.show()"
      ],
      "execution_count": 250,
      "outputs": [
        {
          "output_type": "display_data",
          "data": {
            "image/png": "[encoded data removed]",
            "text/plain": [
              "<Figure size 432x288 with 1 Axes>"
            ]
          },
          "metadata": {
            "needs_background": "light"
          }
        }
      ]
    },
    {
      "cell_type": "code",
      "metadata": {
        "id": "LkTDqAOB5lXd",
        "colab": {
          "base_uri": "https://localhost:8080/",
          "height": 295
        },
        "outputId": "9e816b71-404e-401d-8c66-790d5dbba34b"
      },
      "source": [
        "#Visualization for testing data\n",
        "plt.scatter(X_testing_size, y_testing_price, color='red')\n",
        "plt.plot(X_testing_size, model_one.predict(X_testing_size), color='blue')\n",
        "plt.title('Testing dataset')\n",
        "plt.xlabel('Size')\n",
        "plt.ylabel('price')\n",
        "plt.show()"
      ],
      "execution_count": 251,
      "outputs": [
        {
          "output_type": "display_data",
          "data": {
            "image/png": "[encoded data removed]",
            "text/plain": [
              "<Figure size 432x288 with 1 Axes>"
            ]
          },
          "metadata": {
            "needs_background": "light"
          }
        }
      ]
    },
    {
      "cell_type": "code",
      "metadata": {
        "id": "QG2sgYyH8mw1"
      },
      "source": [
        "## price prediction with new test (size ) values\n",
        "size_new_data = np.array([75.8, 8.6, 8.1, 1.3, 6.70, 10.3])\n",
        "size_new_data = size_new_data.reshape(-1, 1)\n",
        "price_new_predicted = model_one.predict(size_new_data)\n"
      ],
      "execution_count": 252,
      "outputs": []
    },
    {
      "cell_type": "code",
      "metadata": {
        "id": "BlGQZv6U3r8e"
      },
      "source": [
        "price_new_predicted=price_new_predicted.flatten()"
      ],
      "execution_count": 253,
      "outputs": []
    },
    {
      "cell_type": "code",
      "metadata": {
        "id": "t_YjhHog70ab"
      },
      "source": [
        "new_test_data=y_testing_price[0:len(size_new_data)]\n",
        "new_test_data=new_test_data.flatten()"
      ],
      "execution_count": 254,
      "outputs": []
    },
    {
      "cell_type": "code",
      "metadata": {
        "id": "9xwuyJs-KlUA"
      },
      "source": [
        "\n",
        "size_new_data=size_new_data.reshape(-1,1)\n",
        "size_new_data=size_new_data.flatten()"
      ],
      "execution_count": 255,
      "outputs": []
    },
    {
      "cell_type": "code",
      "metadata": {
        "id": "SUxweHCR7s5E",
        "colab": {
          "base_uri": "https://localhost:8080/",
          "height": 234
        },
        "outputId": "97c31c11-1635-44fa-ebf1-a1ebeb34e0e3"
      },
      "source": [
        "df = pd.DataFrame({'Actual': new_test_data, 'Predicted': price_new_predicted})\n",
        "df"
      ],
      "execution_count": 256,
      "outputs": [
        {
          "output_type": "execute_result",
          "data": {
            "text/html": [
              "<div>\n",
              "<style scoped>\n",
              "    .dataframe tbody tr th:only-of-type {\n",
              "        vertical-align: middle;\n",
              "    }\n",
              "\n",
              "    .dataframe tbody tr th {\n",
              "        vertical-align: top;\n",
              "    }\n",
              "\n",
              "    .dataframe thead th {\n",
              "        text-align: right;\n",
              "    }\n",
              "</style>\n",
              "<table border=\"1\" class=\"dataframe\">\n",
              "  <thead>\n",
              "    <tr style=\"text-align: right;\">\n",
              "      <th></th>\n",
              "      <th>Actual</th>\n",
              "      <th>Predicted</th>\n",
              "    </tr>\n",
              "  </thead>\n",
              "  <tbody>\n",
              "    <tr>\n",
              "      <th>0</th>\n",
              "      <td>0.908000</td>\n",
              "      <td>1.040279</td>\n",
              "    </tr>\n",
              "    <tr>\n",
              "      <th>1</th>\n",
              "      <td>0.886000</td>\n",
              "      <td>0.885935</td>\n",
              "    </tr>\n",
              "    <tr>\n",
              "      <th>2</th>\n",
              "      <td>0.762774</td>\n",
              "      <td>0.884787</td>\n",
              "    </tr>\n",
              "    <tr>\n",
              "      <th>3</th>\n",
              "      <td>0.352000</td>\n",
              "      <td>0.869169</td>\n",
              "    </tr>\n",
              "    <tr>\n",
              "      <th>4</th>\n",
              "      <td>3.742500</td>\n",
              "      <td>0.881571</td>\n",
              "    </tr>\n",
              "    <tr>\n",
              "      <th>5</th>\n",
              "      <td>0.328067</td>\n",
              "      <td>0.889840</td>\n",
              "    </tr>\n",
              "  </tbody>\n",
              "</table>\n",
              "</div>"
            ],
            "text/plain": [
              "     Actual  Predicted\n",
              "0  0.908000   1.040279\n",
              "1  0.886000   0.885935\n",
              "2  0.762774   0.884787\n",
              "3  0.352000   0.869169\n",
              "4  3.742500   0.881571\n",
              "5  0.328067   0.889840"
            ]
          },
          "metadata": {},
          "execution_count": 256
        }
      ]
    },
    {
      "cell_type": "code",
      "metadata": {
        "colab": {
          "base_uri": "https://localhost:8080/",
          "height": 234
        },
        "id": "iw3ZMhJ0Hnqn",
        "outputId": "5697fc9c-d6e3-4681-abfb-35f289d0faf3"
      },
      "source": [
        "df = pd.DataFrame({'Actual_Size': size_new_data, 'Predicted_price': price_new_predicted})\n",
        "df"
      ],
      "execution_count": 257,
      "outputs": [
        {
          "output_type": "execute_result",
          "data": {
            "text/html": [
              "<div>\n",
              "<style scoped>\n",
              "    .dataframe tbody tr th:only-of-type {\n",
              "        vertical-align: middle;\n",
              "    }\n",
              "\n",
              "    .dataframe tbody tr th {\n",
              "        vertical-align: top;\n",
              "    }\n",
              "\n",
              "    .dataframe thead th {\n",
              "        text-align: right;\n",
              "    }\n",
              "</style>\n",
              "<table border=\"1\" class=\"dataframe\">\n",
              "  <thead>\n",
              "    <tr style=\"text-align: right;\">\n",
              "      <th></th>\n",
              "      <th>Actual_Size</th>\n",
              "      <th>Predicted_price</th>\n",
              "    </tr>\n",
              "  </thead>\n",
              "  <tbody>\n",
              "    <tr>\n",
              "      <th>0</th>\n",
              "      <td>75.8</td>\n",
              "      <td>1.040279</td>\n",
              "    </tr>\n",
              "    <tr>\n",
              "      <th>1</th>\n",
              "      <td>8.6</td>\n",
              "      <td>0.885935</td>\n",
              "    </tr>\n",
              "    <tr>\n",
              "      <th>2</th>\n",
              "      <td>8.1</td>\n",
              "      <td>0.884787</td>\n",
              "    </tr>\n",
              "    <tr>\n",
              "      <th>3</th>\n",
              "      <td>1.3</td>\n",
              "      <td>0.869169</td>\n",
              "    </tr>\n",
              "    <tr>\n",
              "      <th>4</th>\n",
              "      <td>6.7</td>\n",
              "      <td>0.881571</td>\n",
              "    </tr>\n",
              "    <tr>\n",
              "      <th>5</th>\n",
              "      <td>10.3</td>\n",
              "      <td>0.889840</td>\n",
              "    </tr>\n",
              "  </tbody>\n",
              "</table>\n",
              "</div>"
            ],
            "text/plain": [
              "   Actual_Size  Predicted_price\n",
              "0         75.8         1.040279\n",
              "1          8.6         0.885935\n",
              "2          8.1         0.884787\n",
              "3          1.3         0.869169\n",
              "4          6.7         0.881571\n",
              "5         10.3         0.889840"
            ]
          },
          "metadata": {},
          "execution_count": 257
        }
      ]
    },
    {
      "cell_type": "code",
      "metadata": {
        "id": "z5iY4yTBLj24"
      },
      "source": [
        "X_testing_size=X_testing_size.flatten()\n",
        "y_testing_price=y_testing_price.flatten()\n",
        "y_prediction=y_prediction.flatten()"
      ],
      "execution_count": 258,
      "outputs": []
    },
    {
      "cell_type": "code",
      "metadata": {
        "id": "dxMMbp3e3IXy",
        "colab": {
          "base_uri": "https://localhost:8080/",
          "height": 417
        },
        "outputId": "6bb62fd3-86a7-4630-fc05-69ed62a42157"
      },
      "source": [
        "# To compare the actual output values of X_testing_size with the predicted values\n",
        "df = pd.DataFrame({'Actual': y_testing_price, 'Predicted': y_prediction})\n",
        "df"
      ],
      "execution_count": 259,
      "outputs": [
        {
          "output_type": "execute_result",
          "data": {
            "text/html": [
              "<div>\n",
              "<style scoped>\n",
              "    .dataframe tbody tr th:only-of-type {\n",
              "        vertical-align: middle;\n",
              "    }\n",
              "\n",
              "    .dataframe tbody tr th {\n",
              "        vertical-align: top;\n",
              "    }\n",
              "\n",
              "    .dataframe thead th {\n",
              "        text-align: right;\n",
              "    }\n",
              "</style>\n",
              "<table border=\"1\" class=\"dataframe\">\n",
              "  <thead>\n",
              "    <tr style=\"text-align: right;\">\n",
              "      <th></th>\n",
              "      <th>Actual</th>\n",
              "      <th>Predicted</th>\n",
              "    </tr>\n",
              "  </thead>\n",
              "  <tbody>\n",
              "    <tr>\n",
              "      <th>0</th>\n",
              "      <td>0.908000</td>\n",
              "      <td>3.182809</td>\n",
              "    </tr>\n",
              "    <tr>\n",
              "      <th>1</th>\n",
              "      <td>0.886000</td>\n",
              "      <td>1.789030</td>\n",
              "    </tr>\n",
              "    <tr>\n",
              "      <th>2</th>\n",
              "      <td>0.762774</td>\n",
              "      <td>3.146428</td>\n",
              "    </tr>\n",
              "    <tr>\n",
              "      <th>3</th>\n",
              "      <td>0.352000</td>\n",
              "      <td>1.942730</td>\n",
              "    </tr>\n",
              "    <tr>\n",
              "      <th>4</th>\n",
              "      <td>3.742500</td>\n",
              "      <td>3.006416</td>\n",
              "    </tr>\n",
              "    <tr>\n",
              "      <th>...</th>\n",
              "      <td>...</td>\n",
              "      <td>...</td>\n",
              "    </tr>\n",
              "    <tr>\n",
              "      <th>81</th>\n",
              "      <td>1.390620</td>\n",
              "      <td>2.573611</td>\n",
              "    </tr>\n",
              "    <tr>\n",
              "      <th>82</th>\n",
              "      <td>0.288500</td>\n",
              "      <td>2.250453</td>\n",
              "    </tr>\n",
              "    <tr>\n",
              "      <th>83</th>\n",
              "      <td>1.487500</td>\n",
              "      <td>2.755056</td>\n",
              "    </tr>\n",
              "    <tr>\n",
              "      <th>84</th>\n",
              "      <td>7.539658</td>\n",
              "      <td>3.001823</td>\n",
              "    </tr>\n",
              "    <tr>\n",
              "      <th>85</th>\n",
              "      <td>9.900000</td>\n",
              "      <td>3.541474</td>\n",
              "    </tr>\n",
              "  </tbody>\n",
              "</table>\n",
              "<p>86 rows × 2 columns</p>\n",
              "</div>"
            ],
            "text/plain": [
              "      Actual  Predicted\n",
              "0   0.908000   3.182809\n",
              "1   0.886000   1.789030\n",
              "2   0.762774   3.146428\n",
              "3   0.352000   1.942730\n",
              "4   3.742500   3.006416\n",
              "..       ...        ...\n",
              "81  1.390620   2.573611\n",
              "82  0.288500   2.250453\n",
              "83  1.487500   2.755056\n",
              "84  7.539658   3.001823\n",
              "85  9.900000   3.541474\n",
              "\n",
              "[86 rows x 2 columns]"
            ]
          },
          "metadata": {},
          "execution_count": 259
        }
      ]
    },
    {
      "cell_type": "code",
      "metadata": {
        "id": "nmKfIlet7p_C",
        "colab": {
          "base_uri": "https://localhost:8080/"
        },
        "outputId": "886a6e1c-3087-4281-d861-0cfd4bcea3b4"
      },
      "source": [
        "#Evaluating the model\n",
        "print('Mean absolute Error',metrics.mean_absolute_error(y_testing_price, y_prediction))\n",
        "print('Mean Squared Error:', metrics.mean_squared_error(y_testing_price, y_prediction))\n",
        "print('Root Mean Squared Error:', np.sqrt(metrics.mean_squared_error(y_testing_price, y_prediction)))# R sqaure\n",
        "#r2_score(new_test_data,price_new_predicted)"
      ],
      "execution_count": 260,
      "outputs": [
        {
          "output_type": "stream",
          "name": "stdout",
          "text": [
            "Mean absolute Error 2.6855486941004547\n",
            "Mean Squared Error: 16.35922009540488\n",
            "Root Mean Squared Error: 4.044653272581579\n"
          ]
        }
      ]
    },
    {
      "cell_type": "markdown",
      "metadata": {
        "id": "l3pIRvRs2ot4"
      },
      "source": [
        "# **Multivarient Model**"
      ]
    },
    {
      "cell_type": "code",
      "metadata": {
        "id": "3vvkrvay2uEI",
        "colab": {
          "base_uri": "https://localhost:8080/"
        },
        "outputId": "22219222-1a75-4683-9a0c-329b84c1b46b"
      },
      "source": [
        "dataset.columns"
      ],
      "execution_count": 261,
      "outputs": [
        {
          "output_type": "execute_result",
          "data": {
            "text/plain": [
              "Index(['PRICE', 'HEIGHT', 'WIDTH', 'SIGNED', 'PICTURE', 'HOUSE ', 'SIZE'], dtype='object')"
            ]
          },
          "metadata": {},
          "execution_count": 261
        }
      ]
    },
    {
      "cell_type": "code",
      "metadata": {
        "id": "6DZmxeAz-5ck"
      },
      "source": [
        "#Segregation of independent and dependent values\n",
        "X=dataset[['HEIGHT', 'WIDTH', 'SIGNED','PICTURE', 'SIZE', 'HOUSE ']]\n",
        "y=dataset['PRICE']"
      ],
      "execution_count": 262,
      "outputs": []
    },
    {
      "cell_type": "code",
      "metadata": {
        "id": "yqh81BA9-lu0"
      },
      "source": [
        "#Slipting the data into training and testing 80:20 ratio\n",
        "X_multi_train, X_multi_test, y_multi_train, y_multi_test = train_test_split(X, y, test_size=0.2, random_state=0)"
      ],
      "execution_count": 263,
      "outputs": []
    },
    {
      "cell_type": "code",
      "metadata": {
        "id": "KCNvCbebrk0w",
        "colab": {
          "base_uri": "https://localhost:8080/"
        },
        "outputId": "4d69ecdc-2352-445f-eb56-b8afa6c2e36b"
      },
      "source": [
        "# Applying Linear regression model \n",
        "multi_varient_model = LinearRegression()\n",
        "multi_varient_model.fit(X_multi_train, y_multi_train)\n"
      ],
      "execution_count": 264,
      "outputs": [
        {
          "output_type": "execute_result",
          "data": {
            "text/plain": [
              "LinearRegression(copy_X=True, fit_intercept=True, n_jobs=None, normalize=False)"
            ]
          },
          "metadata": {},
          "execution_count": 264
        }
      ]
    },
    {
      "cell_type": "code",
      "metadata": {
        "colab": {
          "base_uri": "https://localhost:8080/"
        },
        "id": "4gb-KlIi_Inp",
        "outputId": "98f331f6-5640-48e0-d0cd-9d4fcd16cf01"
      },
      "source": [
        "# To find the intercept\n",
        "multi_varient_model.intercept_"
      ],
      "execution_count": 289,
      "outputs": [
        {
          "output_type": "execute_result",
          "data": {
            "text/plain": [
              "-7.724213898054689"
            ]
          },
          "metadata": {},
          "execution_count": 289
        }
      ]
    },
    {
      "cell_type": "code",
      "metadata": {
        "id": "97fHQow8t7VV"
      },
      "source": [
        "#To find the coefficients for all the attributes\n",
        "coeff_df = pd.DataFrame(multi_varient_model.coef_, X.columns, columns=['Coefficient'])\n",
        "coeff_df"
      ],
      "execution_count": null,
      "outputs": []
    },
    {
      "cell_type": "code",
      "metadata": {
        "id": "9hdXB322r-1v",
        "colab": {
          "base_uri": "https://localhost:8080/"
        },
        "outputId": "9f1bbfb0-bb45-4ebd-ac8e-b83bf02588ef"
      },
      "source": [
        "multi_varient_model.coef_"
      ],
      "execution_count": 290,
      "outputs": [
        {
          "output_type": "execute_result",
          "data": {
            "text/plain": [
              "array([ 1.07032341e-01,  1.76735056e-01,  1.96225611e+00,  3.67750940e-03,\n",
              "       -1.07555132e-03,  5.29873805e-01])"
            ]
          },
          "metadata": {},
          "execution_count": 290
        }
      ]
    },
    {
      "cell_type": "code",
      "metadata": {
        "id": "hvLODAMisF3H",
        "colab": {
          "base_uri": "https://localhost:8080/"
        },
        "outputId": "d123fb34-815d-406c-97f2-6b60c85343db"
      },
      "source": [
        "# To determine whether regression line is a best fit or not (Type: boolean)\n",
        "multi_varient_model.fit_intercept"
      ],
      "execution_count": 268,
      "outputs": [
        {
          "output_type": "execute_result",
          "data": {
            "text/plain": [
              "True"
            ]
          },
          "metadata": {},
          "execution_count": 268
        }
      ]
    },
    {
      "cell_type": "code",
      "metadata": {
        "id": "oYdkWmCLukRv"
      },
      "source": [
        "#to make the predictions on the test data\n",
        "y_pred = multi_varient_model.predict(X_multi_test)\n",
        "y_pred"
      ],
      "execution_count": null,
      "outputs": []
    },
    {
      "cell_type": "code",
      "metadata": {
        "id": "ZIIC6gPFvkEb"
      },
      "source": [
        "#To compare the actual output values for X_multi_test with the predicted values\n",
        "df = pd.DataFrame({'Actual': y_multi_test, 'Predicted': y_pred})\n",
        "df"
      ],
      "execution_count": null,
      "outputs": []
    },
    {
      "cell_type": "code",
      "metadata": {
        "colab": {
          "base_uri": "https://localhost:8080/"
        },
        "id": "_fqgzj-WAeD6",
        "outputId": "2bb25885-6ae5-4c6d-c5fa-4b543d73f71d"
      },
      "source": [
        "#Evaluating the model\n",
        "print(\"Mean Abs error\",metrics.mean_absolute_error(y_multi_test,y_pred))\n",
        "print(\"Mean Squared error\",metrics.mean_squared_error(y_multi_test,y_pred))\n",
        "print(\"Root mean squared error\",np.sqrt(metrics.mean_squared_error(y_multi_test,y_pred)))\n"
      ],
      "execution_count": 271,
      "outputs": [
        {
          "output_type": "stream",
          "name": "stdout",
          "text": [
            "Mean Abs error 2.5506852722047557\n",
            "Mean Squared error 15.354085812007373\n",
            "Root mean squared error 3.9184289979540745\n"
          ]
        }
      ]
    },
    {
      "cell_type": "code",
      "metadata": {
        "colab": {
          "base_uri": "https://localhost:8080/",
          "height": 296
        },
        "id": "6cw1tGauBHLL",
        "outputId": "dcc006c8-a70a-48cd-fb18-b3e308f50f92"
      },
      "source": [
        "#visulaization for multi linear regression \n",
        "sns.regplot(x=y_multi_test,y=y_pred,color='blue')"
      ],
      "execution_count": 272,
      "outputs": [
        {
          "output_type": "execute_result",
          "data": {
            "text/plain": [
              "<matplotlib.axes._subplots.AxesSubplot at 0x7fc926cd6c10>"
            ]
          },
          "metadata": {},
          "execution_count": 272
        },
        {
          "output_type": "display_data",
          "data": {
            "image/png": "[encoded data removed]",
            "text/plain": [
              "<Figure size 432x288 with 1 Axes>"
            ]
          },
          "metadata": {
            "needs_background": "light"
          }
        }
      ]
    },
    {
      "cell_type": "code",
      "metadata": {
        "colab": {
          "base_uri": "https://localhost:8080/",
          "height": 383
        },
        "id": "0N3eSRFBBYkn",
        "outputId": "56066a27-04a8-4c4c-ce19-b5131f635c1e"
      },
      "source": [
        "ax1=sns.distplot(y_multi_test, hist=False, color='blue',label='Actual')\n",
        "sns.distplot(y_pred,hist=False,color='green',label=\"Fitted\",ax=ax1)"
      ],
      "execution_count": 273,
      "outputs": [
        {
          "output_type": "stream",
          "name": "stderr",
          "text": [
            "/usr/local/lib/python3.7/dist-packages/seaborn/distributions.py:2557: FutureWarning: `distplot` is a deprecated function and will be removed in a future version. Please adapt your code to use either `displot` (a figure-level function with similar flexibility) or `kdeplot` (an axes-level function for kernel density plots).\n",
            "  warnings.warn(msg, FutureWarning)\n",
            "/usr/local/lib/python3.7/dist-packages/seaborn/distributions.py:2557: FutureWarning: `distplot` is a deprecated function and will be removed in a future version. Please adapt your code to use either `displot` (a figure-level function with similar flexibility) or `kdeplot` (an axes-level function for kernel density plots).\n",
            "  warnings.warn(msg, FutureWarning)\n"
          ]
        },
        {
          "output_type": "execute_result",
          "data": {
            "text/plain": [
              "<matplotlib.axes._subplots.AxesSubplot at 0x7fc926f8ead0>"
            ]
          },
          "metadata": {},
          "execution_count": 273
        },
        {
          "output_type": "display_data",
          "data": {
            "image/png": "[encoded data removed]",
            "text/plain": [
              "<Figure size 432x288 with 1 Axes>"
            ]
          },
          "metadata": {
            "needs_background": "light"
          }
        }
      ]
    },
    {
      "cell_type": "markdown",
      "metadata": {
        "id": "QkvBBKsfyr1m"
      },
      "source": [
        "## **Second** **model** (Height Vs price)"
      ]
    },
    {
      "cell_type": "code",
      "metadata": {
        "id": "gFokOIv-0rkP"
      },
      "source": [
        "#setting independent variable as height (X_height)\n",
        "X_height=dataset.iloc[:, 1:2]"
      ],
      "execution_count": 274,
      "outputs": []
    },
    {
      "cell_type": "code",
      "metadata": {
        "id": "kAueF8aB2Ja0"
      },
      "source": [
        "#setting dependent value as price(y_price)\n",
        "y_price=dataset.iloc[:,:1]"
      ],
      "execution_count": 275,
      "outputs": []
    },
    {
      "cell_type": "code",
      "metadata": {
        "id": "cH9MfLA2ywHP"
      },
      "source": [
        "#Slipting the data into training and testing 80:20 ratio\n",
        "X_train_model_two, X_test_model_two, y_train_model_two, y_test_model_two = train_test_split(X_height, y_price, test_size=0.2, random_state=0)\n",
        "X_test_model_two"
      ],
      "execution_count": null,
      "outputs": []
    },
    {
      "cell_type": "code",
      "metadata": {
        "id": "C1EVBPM6zW9G",
        "colab": {
          "base_uri": "https://localhost:8080/",
          "height": 110
        },
        "outputId": "0cf94d22-a9da-4f19-e837-392c7f02e21a"
      },
      "source": [
        "## Determine the correaltion between the variables\n",
        "data = {'size': X_height['HEIGHT'],'Price': y_price['PRICE']}\n",
        "df = pd.DataFrame(data)\n",
        "df.corr()"
      ],
      "execution_count": 277,
      "outputs": [
        {
          "output_type": "execute_result",
          "data": {
            "text/html": [
              "<div>\n",
              "<style scoped>\n",
              "    .dataframe tbody tr th:only-of-type {\n",
              "        vertical-align: middle;\n",
              "    }\n",
              "\n",
              "    .dataframe tbody tr th {\n",
              "        vertical-align: top;\n",
              "    }\n",
              "\n",
              "    .dataframe thead th {\n",
              "        text-align: right;\n",
              "    }\n",
              "</style>\n",
              "<table border=\"1\" class=\"dataframe\">\n",
              "  <thead>\n",
              "    <tr style=\"text-align: right;\">\n",
              "      <th></th>\n",
              "      <th>size</th>\n",
              "      <th>Price</th>\n",
              "    </tr>\n",
              "  </thead>\n",
              "  <tbody>\n",
              "    <tr>\n",
              "      <th>size</th>\n",
              "      <td>1.000000</td>\n",
              "      <td>0.314581</td>\n",
              "    </tr>\n",
              "    <tr>\n",
              "      <th>Price</th>\n",
              "      <td>0.314581</td>\n",
              "      <td>1.000000</td>\n",
              "    </tr>\n",
              "  </tbody>\n",
              "</table>\n",
              "</div>"
            ],
            "text/plain": [
              "           size     Price\n",
              "size   1.000000  0.314581\n",
              "Price  0.314581  1.000000"
            ]
          },
          "metadata": {},
          "execution_count": 277
        }
      ]
    },
    {
      "cell_type": "code",
      "metadata": {
        "id": "l_k7OWLHzAPE",
        "colab": {
          "base_uri": "https://localhost:8080/"
        },
        "outputId": "30c7fa92-e8ce-4346-de16-b1b110b4cdd4"
      },
      "source": [
        "# Applying Linear regression model \n",
        "model_second = LinearRegression()\n",
        "model_second.fit(X_train_model_two, y_train_model_two)"
      ],
      "execution_count": 278,
      "outputs": [
        {
          "output_type": "execute_result",
          "data": {
            "text/plain": [
              "LinearRegression(copy_X=True, fit_intercept=True, n_jobs=None, normalize=False)"
            ]
          },
          "metadata": {},
          "execution_count": 278
        }
      ]
    },
    {
      "cell_type": "code",
      "metadata": {
        "id": "UnDDgnzs4tZN",
        "colab": {
          "base_uri": "https://localhost:8080/"
        },
        "outputId": "72d7050a-2bfd-4394-9b5c-5b0e22018a42"
      },
      "source": [
        "model_second.intercept_"
      ],
      "execution_count": 279,
      "outputs": [
        {
          "output_type": "execute_result",
          "data": {
            "text/plain": [
              "array([-0.27687085])"
            ]
          },
          "metadata": {},
          "execution_count": 279
        }
      ]
    },
    {
      "cell_type": "code",
      "metadata": {
        "id": "y0aUlWIGsgG5"
      },
      "source": [
        "#To make predictions on the test data\n",
        "#y_prediction contains all the predicted values for the input test values\n",
        "y_pred_model_two = model_second.predict(X_test_model_two)\n",
        "y_pred_model_two=y_pred_model_two.flatten()"
      ],
      "execution_count": 280,
      "outputs": []
    },
    {
      "cell_type": "code",
      "metadata": {
        "id": "PRF1pdiPs_XR"
      },
      "source": [
        "X_testing_height=X_test_model_two['HEIGHT'].values\n",
        "y_testing_price=y_test_model_two['PRICE'].values\n",
        "\n",
        "X_testing_height=X_testing_height.reshape(-1,1)\n",
        "y_testing_price=y_testing_price.reshape(-1,1)"
      ],
      "execution_count": 281,
      "outputs": []
    },
    {
      "cell_type": "code",
      "metadata": {
        "id": "PRg4eOpY4tOi",
        "colab": {
          "base_uri": "https://localhost:8080/"
        },
        "outputId": "0f9c710c-fcc0-4f19-f2f2-eefb4bbc40d1"
      },
      "source": [
        "#model_second.score(X_train_model_two,y_train_model_two)\n",
        "model_second.score(X_testing_height,y_testing_price)"
      ],
      "execution_count": 282,
      "outputs": [
        {
          "output_type": "execute_result",
          "data": {
            "text/plain": [
              "0.14944028545343757"
            ]
          },
          "metadata": {},
          "execution_count": 282
        }
      ]
    },
    {
      "cell_type": "code",
      "metadata": {
        "id": "TAqS470C5agv",
        "colab": {
          "base_uri": "https://localhost:8080/",
          "height": 295
        },
        "outputId": "61f2dfb4-8095-4c72-b6d1-01b2f64fb79c"
      },
      "source": [
        "#Visualization for Second Model traning data\n",
        "plt.scatter(X_train_model_two, y_train_model_two, color='green')\n",
        "plt.plot(X_train_model_two, model_second.predict(X_train_model_two), color='blue')\n",
        "plt.title('Training set for second model')\n",
        "plt.xlabel('Height')\n",
        "plt.ylabel('price')\n",
        "plt.show()"
      ],
      "execution_count": 283,
      "outputs": [
        {
          "output_type": "display_data",
          "data": {
            "image/png": "[encoded data removed]",
            "text/plain": [
              "<Figure size 432x288 with 1 Axes>"
            ]
          },
          "metadata": {
            "needs_background": "light"
          }
        }
      ]
    },
    {
      "cell_type": "code",
      "metadata": {
        "id": "pAm07tie7MEK",
        "colab": {
          "base_uri": "https://localhost:8080/",
          "height": 295
        },
        "outputId": "c39ec422-53c5-4a77-97b3-2e0e4ece83d7"
      },
      "source": [
        "#Visualization for Second Model testing data\n",
        "plt.scatter(X_test_model_two, y_test_model_two, color='green')\n",
        "plt.plot(X_test_model_two, model_second.predict(X_test_model_two), color='blue')\n",
        "plt.title('Testing set for second model')\n",
        "plt.xlabel('Height')\n",
        "plt.ylabel('price')\n",
        "plt.show()"
      ],
      "execution_count": 284,
      "outputs": [
        {
          "output_type": "display_data",
          "data": {
            "image/png": "[encoded data removed]",
            "text/plain": [
              "<Figure size 432x288 with 1 Axes>"
            ]
          },
          "metadata": {
            "needs_background": "light"
          }
        }
      ]
    },
    {
      "cell_type": "code",
      "metadata": {
        "id": "9zrcXw7w7VSs"
      },
      "source": [
        "## price prediction with new test (Height ) values \n",
        "height_new = np.array([65.6, 1.4, 78.8, 12.4, 56.7, 6])\n",
        "height_new = height_new.reshape(-1, 1)\n",
        "price_predicted = model_second.predict(height_new)"
      ],
      "execution_count": 285,
      "outputs": []
    },
    {
      "cell_type": "code",
      "metadata": {
        "id": "zWbxomoVngLM",
        "colab": {
          "base_uri": "https://localhost:8080/"
        },
        "outputId": "bdd6be49-8238-4635-a919-7a84cf3582d5"
      },
      "source": [
        "y_test_model_two=y_test_model_two.PRICE.values\n",
        "y_test_model_two"
      ],
      "execution_count": 286,
      "outputs": [
        {
          "output_type": "execute_result",
          "data": {
            "text/plain": [
              "array([ 0.908   ,  0.886   ,  0.762774,  0.352   ,  3.7425  ,  0.328067,\n",
              "        0.028022,  0.13148 ,  0.052172,  9.6825  ,  4.18    ,  5.0625  ,\n",
              "        8.36575 ,  0.245183,  0.535074,  1.974181,  3.3     ,  7.6     ,\n",
              "        2.2025  , 20.1675  ,  1.29116 ,  0.941   ,  1.155   ,  8.8     ,\n",
              "        0.7975  ,  0.099   ,  1.2125  ,  0.359547,  1.65    ,  2.72387 ,\n",
              "        0.7725  ,  8.25    ,  0.790229,  3.3025  ,  1.6525  , 12.1     ,\n",
              "        2.42575 ,  6.630157,  4.4     ,  1.27605 ,  0.825   ,  4.076   ,\n",
              "        7.4726  ,  1.656   ,  9.35    ,  0.11    ,  3.9625  ,  5.7775  ,\n",
              "        0.253   ,  4.95419 ,  5.0625  ,  0.440718,  5.2825  , 11.      ,\n",
              "        0.819577,  1.87    ,  4.902943,  0.825   ,  4.7115  ,  0.19857 ,\n",
              "        1.45918 ,  0.33    , 24.20575 , 10.424   ,  0.399166,  0.792   ,\n",
              "        1.17073 ,  1.2125  ,  1.5425  ,  5.01809 ,  0.5525  ,  0.516516,\n",
              "        0.539   ,  2.2475  ,  4.63008 ,  0.472854,  3.85    ,  2.31575 ,\n",
              "        9.0225  ,  0.736201,  0.035549,  1.39062 ,  0.2885  ,  1.4875  ,\n",
              "        7.539658,  9.9     ])"
            ]
          },
          "metadata": {},
          "execution_count": 286
        }
      ]
    },
    {
      "cell_type": "code",
      "metadata": {
        "id": "QxN7HGShBf7P",
        "colab": {
          "base_uri": "https://localhost:8080/",
          "height": 417
        },
        "outputId": "cd6864ad-64c8-4e8a-d911-0eaf8f8febf0"
      },
      "source": [
        "#To compare the actual output values for X_test_model_two with the predicted values\n",
        "df = pd.DataFrame({'Actual': y_test_model_two, 'Predicted': y_pred_model_two})\n",
        "df"
      ],
      "execution_count": 287,
      "outputs": [
        {
          "output_type": "execute_result",
          "data": {
            "text/html": [
              "<div>\n",
              "<style scoped>\n",
              "    .dataframe tbody tr th:only-of-type {\n",
              "        vertical-align: middle;\n",
              "    }\n",
              "\n",
              "    .dataframe tbody tr th {\n",
              "        vertical-align: top;\n",
              "    }\n",
              "\n",
              "    .dataframe thead th {\n",
              "        text-align: right;\n",
              "    }\n",
              "</style>\n",
              "<table border=\"1\" class=\"dataframe\">\n",
              "  <thead>\n",
              "    <tr style=\"text-align: right;\">\n",
              "      <th></th>\n",
              "      <th>Actual</th>\n",
              "      <th>Predicted</th>\n",
              "    </tr>\n",
              "  </thead>\n",
              "  <tbody>\n",
              "    <tr>\n",
              "      <th>0</th>\n",
              "      <td>0.908000</td>\n",
              "      <td>2.755661</td>\n",
              "    </tr>\n",
              "    <tr>\n",
              "      <th>1</th>\n",
              "      <td>0.886000</td>\n",
              "      <td>1.381545</td>\n",
              "    </tr>\n",
              "    <tr>\n",
              "      <th>2</th>\n",
              "      <td>0.762774</td>\n",
              "      <td>2.945194</td>\n",
              "    </tr>\n",
              "    <tr>\n",
              "      <th>3</th>\n",
              "      <td>0.352000</td>\n",
              "      <td>1.961990</td>\n",
              "    </tr>\n",
              "    <tr>\n",
              "      <th>4</th>\n",
              "      <td>3.742500</td>\n",
              "      <td>2.755661</td>\n",
              "    </tr>\n",
              "    <tr>\n",
              "      <th>...</th>\n",
              "      <td>...</td>\n",
              "      <td>...</td>\n",
              "    </tr>\n",
              "    <tr>\n",
              "      <th>81</th>\n",
              "      <td>1.390620</td>\n",
              "      <td>2.518744</td>\n",
              "    </tr>\n",
              "    <tr>\n",
              "      <th>82</th>\n",
              "      <td>0.288500</td>\n",
              "      <td>2.210753</td>\n",
              "    </tr>\n",
              "    <tr>\n",
              "      <th>83</th>\n",
              "      <td>1.487500</td>\n",
              "      <td>2.767507</td>\n",
              "    </tr>\n",
              "    <tr>\n",
              "      <th>84</th>\n",
              "      <td>7.539658</td>\n",
              "      <td>2.518744</td>\n",
              "    </tr>\n",
              "    <tr>\n",
              "      <th>85</th>\n",
              "      <td>9.900000</td>\n",
              "      <td>3.513794</td>\n",
              "    </tr>\n",
              "  </tbody>\n",
              "</table>\n",
              "<p>86 rows × 2 columns</p>\n",
              "</div>"
            ],
            "text/plain": [
              "      Actual  Predicted\n",
              "0   0.908000   2.755661\n",
              "1   0.886000   1.381545\n",
              "2   0.762774   2.945194\n",
              "3   0.352000   1.961990\n",
              "4   3.742500   2.755661\n",
              "..       ...        ...\n",
              "81  1.390620   2.518744\n",
              "82  0.288500   2.210753\n",
              "83  1.487500   2.767507\n",
              "84  7.539658   2.518744\n",
              "85  9.900000   3.513794\n",
              "\n",
              "[86 rows x 2 columns]"
            ]
          },
          "metadata": {},
          "execution_count": 287
        }
      ]
    },
    {
      "cell_type": "code",
      "metadata": {
        "colab": {
          "base_uri": "https://localhost:8080/"
        },
        "id": "3m7WK3ev-jMO",
        "outputId": "8843da9a-b5d5-423b-b136-7256fb9bf6a6"
      },
      "source": [
        "#Evaluating the model\n",
        "print('MSE',metrics.mean_absolute_error(y_test_model_two, y_pred_model_two))\n",
        "print('Mean Squared Error:', metrics.mean_squared_error(y_test_model_two, y_pred_model_two))\n",
        "print('Root Mean Squared Error:', np.sqrt(metrics.mean_squared_error(y_test_model_two, y_pred_model_two)))# R sqaure"
      ],
      "execution_count": 288,
      "outputs": [
        {
          "output_type": "stream",
          "name": "stdout",
          "text": [
            "MSE 2.563036369931283\n",
            "Mean Squared Error: 15.401380494288452\n",
            "Root Mean Squared Error: 3.924459261387287\n"
          ]
        }
      ]
    }
  ]
}